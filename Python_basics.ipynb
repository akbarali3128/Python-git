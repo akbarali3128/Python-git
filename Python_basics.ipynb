{
 "cells": [
  {
   "cell_type": "markdown",
   "metadata": {},
   "source": [
    "# Ali Akbar\n",
    "\n",
    "# CSC-18F-041"
   ]
  },
  {
   "cell_type": "markdown",
   "metadata": {},
   "source": [
    "# The Print Statement in Python"
   ]
  },
  {
   "cell_type": "code",
   "execution_count": 2,
   "metadata": {},
   "outputs": [
    {
     "name": "stdout",
     "output_type": "stream",
     "text": [
      "Ali\n"
     ]
    }
   ],
   "source": [
    "print (\"Ali\")"
   ]
  },
  {
   "cell_type": "code",
   "execution_count": 7,
   "metadata": {},
   "outputs": [],
   "source": [
    "a = 34\n",
    "b = 45\n",
    "c = 22\n",
    "c = 44"
   ]
  },
  {
   "cell_type": "code",
   "execution_count": 9,
   "metadata": {},
   "outputs": [
    {
     "name": "stdout",
     "output_type": "stream",
     "text": [
      "34 45 44 44\n"
     ]
    }
   ],
   "source": [
    "print (a,b,c,c)"
   ]
  },
  {
   "cell_type": "code",
   "execution_count": 11,
   "metadata": {},
   "outputs": [],
   "source": [
    "name = \"Ali Akbar\""
   ]
  },
  {
   "cell_type": "code",
   "execution_count": 14,
   "metadata": {},
   "outputs": [
    {
     "name": "stdout",
     "output_type": "stream",
     "text": [
      "Ali Akbar\n"
     ]
    }
   ],
   "source": [
    "print (name)"
   ]
  },
  {
   "cell_type": "code",
   "execution_count": 15,
   "metadata": {},
   "outputs": [],
   "source": [
    "Mr_Ali = \"Mark\""
   ]
  },
  {
   "cell_type": "code",
   "execution_count": 16,
   "metadata": {},
   "outputs": [
    {
     "name": "stdout",
     "output_type": "stream",
     "text": [
      "Mark\n"
     ]
    }
   ],
   "source": [
    "print (Mr_Ali)"
   ]
  },
  {
   "cell_type": "code",
   "execution_count": 17,
   "metadata": {},
   "outputs": [],
   "source": [
    "my_name = \"Angelo Mathews\""
   ]
  },
  {
   "cell_type": "code",
   "execution_count": 18,
   "metadata": {},
   "outputs": [],
   "source": [
    "my_nationality = \"Sri Lanka\""
   ]
  },
  {
   "cell_type": "code",
   "execution_count": 20,
   "metadata": {},
   "outputs": [
    {
     "name": "stdout",
     "output_type": "stream",
     "text": [
      "Sri Lanka\n"
     ]
    }
   ],
   "source": [
    "print (my_nationality)"
   ]
  },
  {
   "cell_type": "code",
   "execution_count": 21,
   "metadata": {},
   "outputs": [],
   "source": [
    "x = 234.23\n",
    "x = 4444.22\n",
    "y = 43\n",
    "y = 84"
   ]
  },
  {
   "cell_type": "code",
   "execution_count": 22,
   "metadata": {},
   "outputs": [
    {
     "name": "stdout",
     "output_type": "stream",
     "text": [
      "4444.22 84 4444.22 84\n"
     ]
    }
   ],
   "source": [
    "print (x,y,x,y)"
   ]
  },
  {
   "cell_type": "code",
   "execution_count": 25,
   "metadata": {},
   "outputs": [
    {
     "name": "stdout",
     "output_type": "stream",
     "text": [
      "[1, 2, 3, 4, 5]\n"
     ]
    }
   ],
   "source": [
    "x=[1,2,3,4,5]\n",
    "print (x[:])\n"
   ]
  },
  {
   "cell_type": "code",
   "execution_count": 26,
   "metadata": {},
   "outputs": [
    {
     "name": "stdout",
     "output_type": "stream",
     "text": [
      "[1, 2]\n"
     ]
    }
   ],
   "source": [
    "print (x[:2])"
   ]
  },
  {
   "cell_type": "code",
   "execution_count": 30,
   "metadata": {},
   "outputs": [
    {
     "name": "stdout",
     "output_type": "stream",
     "text": [
      "2\n"
     ]
    }
   ],
   "source": [
    "print (x[1])"
   ]
  },
  {
   "cell_type": "code",
   "execution_count": 31,
   "metadata": {},
   "outputs": [
    {
     "name": "stdout",
     "output_type": "stream",
     "text": [
      "5\n"
     ]
    }
   ],
   "source": [
    "print(x[5-1])"
   ]
  },
  {
   "cell_type": "code",
   "execution_count": 33,
   "metadata": {},
   "outputs": [
    {
     "name": "stdout",
     "output_type": "stream",
     "text": [
      "2\n"
     ]
    }
   ],
   "source": [
    "print(x[-4])"
   ]
  },
  {
   "cell_type": "code",
   "execution_count": 40,
   "metadata": {},
   "outputs": [
    {
     "name": "stdout",
     "output_type": "stream",
     "text": [
      "1\n"
     ]
    }
   ],
   "source": [
    "print(x[0])"
   ]
  },
  {
   "cell_type": "code",
   "execution_count": 56,
   "metadata": {},
   "outputs": [
    {
     "name": "stdout",
     "output_type": "stream",
     "text": [
      "5\n"
     ]
    }
   ],
   "source": [
    "print(x[4])"
   ]
  },
  {
   "cell_type": "code",
   "execution_count": 63,
   "metadata": {},
   "outputs": [],
   "source": [
    "x = \"AKBAR\""
   ]
  },
  {
   "cell_type": "code",
   "execution_count": 64,
   "metadata": {},
   "outputs": [
    {
     "name": "stdout",
     "output_type": "stream",
     "text": [
      "AKBAR\n"
     ]
    }
   ],
   "source": [
    "print (x)"
   ]
  },
  {
   "cell_type": "code",
   "execution_count": 65,
   "metadata": {},
   "outputs": [],
   "source": [
    "My_designation = \"I am the Ex Director of the FBR\""
   ]
  },
  {
   "cell_type": "code",
   "execution_count": 66,
   "metadata": {},
   "outputs": [
    {
     "name": "stdout",
     "output_type": "stream",
     "text": [
      "I am the Ex Director of the FBR\n"
     ]
    }
   ],
   "source": [
    "print (My_designation)"
   ]
  },
  {
   "cell_type": "markdown",
   "metadata": {},
   "source": [
    "# Variable for Strings"
   ]
  },
  {
   "cell_type": "code",
   "execution_count": 1,
   "metadata": {},
   "outputs": [],
   "source": [
    "Name = \"Marsk\""
   ]
  },
  {
   "cell_type": "code",
   "execution_count": 2,
   "metadata": {},
   "outputs": [
    {
     "name": "stdout",
     "output_type": "stream",
     "text": [
      "Marsk\n"
     ]
    }
   ],
   "source": [
    "print (Name)"
   ]
  },
  {
   "cell_type": "code",
   "execution_count": 3,
   "metadata": {},
   "outputs": [],
   "source": [
    "Name = \"Ali\""
   ]
  },
  {
   "cell_type": "code",
   "execution_count": 4,
   "metadata": {},
   "outputs": [
    {
     "name": "stdout",
     "output_type": "stream",
     "text": [
      "Ali\n"
     ]
    }
   ],
   "source": [
    "print (Name)"
   ]
  },
  {
   "cell_type": "code",
   "execution_count": 19,
   "metadata": {},
   "outputs": [],
   "source": [
    "Name = \"SMIU\""
   ]
  },
  {
   "cell_type": "code",
   "execution_count": 7,
   "metadata": {},
   "outputs": [
    {
     "name": "stdout",
     "output_type": "stream",
     "text": [
      "SMIU\n"
     ]
    }
   ],
   "source": [
    "print (Name)"
   ]
  },
  {
   "cell_type": "code",
   "execution_count": 16,
   "metadata": {},
   "outputs": [],
   "source": [
    "My_Nationality = \"Pakistan\" #when we put anything between \"\" comas python take it as variable and we use any name or anything to assign variable with python naming conditions."
   ]
  },
  {
   "cell_type": "code",
   "execution_count": 10,
   "metadata": {},
   "outputs": [
    {
     "name": "stdout",
     "output_type": "stream",
     "text": [
      "Pakistan\n"
     ]
    }
   ],
   "source": [
    "print (My_Nationality)"
   ]
  },
  {
   "cell_type": "code",
   "execution_count": 17,
   "metadata": {},
   "outputs": [],
   "source": [
    "iam_the_boss = \"Akbar\" #it is not necessary to write name and then assign variable name could be any thing but it must follow the python naming variable conditions."
   ]
  },
  {
   "cell_type": "code",
   "execution_count": 18,
   "metadata": {},
   "outputs": [
    {
     "name": "stdout",
     "output_type": "stream",
     "text": [
      "Akbar\n"
     ]
    }
   ],
   "source": [
    "print (iam_the_boss)"
   ]
  },
  {
   "cell_type": "markdown",
   "metadata": {},
   "source": [
    "# Variable Naming Rules"
   ]
  },
  {
   "cell_type": "code",
   "execution_count": null,
   "metadata": {},
   "outputs": [],
   "source": [
    "#In all of these names python shows erors"
   ]
  },
  {
   "cell_type": "code",
   "execution_count": 31,
   "metadata": {},
   "outputs": [
    {
     "ename": "SyntaxError",
     "evalue": "invalid syntax (<ipython-input-31-0e6a498cceed>, line 1)",
     "output_type": "error",
     "traceback": [
      "\u001b[1;36m  File \u001b[1;32m\"<ipython-input-31-0e6a498cceed>\"\u001b[1;36m, line \u001b[1;32m1\u001b[0m\n\u001b[1;33m    23ak = \"presents\" #Rule 1. we can't use numbers in front for variable naming\u001b[0m\n\u001b[1;37m       ^\u001b[0m\n\u001b[1;31mSyntaxError\u001b[0m\u001b[1;31m:\u001b[0m invalid syntax\n"
     ]
    }
   ],
   "source": [
    "23ak = \"presents\" #Rule 1. we can't use numbers in front for variable naming"
   ]
  },
  {
   "cell_type": "code",
   "execution_count": 22,
   "metadata": {},
   "outputs": [
    {
     "ename": "SyntaxError",
     "evalue": "invalid syntax (<ipython-input-22-2e61752d5684>, line 1)",
     "output_type": "error",
     "traceback": [
      "\u001b[1;36m  File \u001b[1;32m\"<ipython-input-22-2e61752d5684>\"\u001b[1;36m, line \u001b[1;32m1\u001b[0m\n\u001b[1;33m    My name = \"Ali\" #Rule 2. we can't use any spaces for variable naming.\u001b[0m\n\u001b[1;37m          ^\u001b[0m\n\u001b[1;31mSyntaxError\u001b[0m\u001b[1;31m:\u001b[0m invalid syntax\n"
     ]
    }
   ],
   "source": [
    "My name = \"Ali\" #Rule 2. we can't use any spaces for variable naming."
   ]
  },
  {
   "cell_type": "code",
   "execution_count": 23,
   "metadata": {},
   "outputs": [],
   "source": [
    "My_name = \"Ali\" #in case for space we can use underscore."
   ]
  },
  {
   "cell_type": "code",
   "execution_count": 24,
   "metadata": {},
   "outputs": [
    {
     "name": "stderr",
     "output_type": "stream",
     "text": [
      "UsageError: Line magic function `%name` not found.\n"
     ]
    }
   ],
   "source": [
    "%name = \"Akbar\" #Rule 3. we can't use any special character like %, @, $, &, *, for variable naming."
   ]
  },
  {
   "cell_type": "code",
   "execution_count": 30,
   "metadata": {},
   "outputs": [
    {
     "ename": "SyntaxError",
     "evalue": "invalid syntax (<ipython-input-30-d2e9019560c0>, line 1)",
     "output_type": "error",
     "traceback": [
      "\u001b[1;36m  File \u001b[1;32m\"<ipython-input-30-d2e9019560c0>\"\u001b[1;36m, line \u001b[1;32m1\u001b[0m\n\u001b[1;33m    for = \"Ali Akbar\" # we can't use any reserved kew words or function for variable naming.\u001b[0m\n\u001b[1;37m        ^\u001b[0m\n\u001b[1;31mSyntaxError\u001b[0m\u001b[1;31m:\u001b[0m invalid syntax\n"
     ]
    }
   ],
   "source": [
    "for = \"Ali Akbar\" # we can't use any reserved kew words or function for variable naming."
   ]
  },
  {
   "cell_type": "markdown",
   "metadata": {},
   "source": [
    "# Variable for Numbers"
   ]
  },
  {
   "cell_type": "code",
   "execution_count": 35,
   "metadata": {},
   "outputs": [],
   "source": [
    "# Variable are not only used in string they also used for numbers as well but in numbers we do not use \"\" commas."
   ]
  },
  {
   "cell_type": "code",
   "execution_count": 41,
   "metadata": {},
   "outputs": [],
   "source": [
    "weight = 150"
   ]
  },
  {
   "cell_type": "code",
   "execution_count": 47,
   "metadata": {},
   "outputs": [
    {
     "data": {
      "text/plain": [
       "195"
      ]
     },
     "execution_count": 47,
     "metadata": {},
     "output_type": "execute_result"
    }
   ],
   "source": [
    "weight + 45 # we are adding 45 to it's actual weight."
   ]
  },
  {
   "cell_type": "code",
   "execution_count": 48,
   "metadata": {},
   "outputs": [
    {
     "data": {
      "text/plain": [
       "116"
      ]
     },
     "execution_count": 48,
     "metadata": {},
     "output_type": "execute_result"
    }
   ],
   "source": [
    "weight - 34"
   ]
  },
  {
   "cell_type": "code",
   "execution_count": 49,
   "metadata": {},
   "outputs": [],
   "source": [
    "original_num = 344\n",
    "new_num = original_num + 233"
   ]
  },
  {
   "cell_type": "code",
   "execution_count": 51,
   "metadata": {},
   "outputs": [
    {
     "data": {
      "text/plain": [
       "577"
      ]
     },
     "execution_count": 51,
     "metadata": {},
     "output_type": "execute_result"
    }
   ],
   "source": [
    "new_num"
   ]
  },
  {
   "cell_type": "code",
   "execution_count": 52,
   "metadata": {},
   "outputs": [],
   "source": [
    "weight = 150"
   ]
  },
  {
   "cell_type": "code",
   "execution_count": 53,
   "metadata": {},
   "outputs": [
    {
     "data": {
      "text/plain": [
       "150"
      ]
     },
     "execution_count": 53,
     "metadata": {},
     "output_type": "execute_result"
    }
   ],
   "source": [
    "weight"
   ]
  },
  {
   "cell_type": "code",
   "execution_count": 56,
   "metadata": {},
   "outputs": [],
   "source": [
    "total_income = 10000\n",
    "total_cost = 6000\n",
    "net_income = total_income - total_cost"
   ]
  },
  {
   "cell_type": "code",
   "execution_count": 57,
   "metadata": {},
   "outputs": [
    {
     "data": {
      "text/plain": [
       "4000"
      ]
     },
     "execution_count": 57,
     "metadata": {},
     "output_type": "execute_result"
    }
   ],
   "source": [
    "net_income"
   ]
  },
  {
   "cell_type": "code",
   "execution_count": 58,
   "metadata": {},
   "outputs": [],
   "source": [
    "Original_num = 578\n",
    "num_to_be_added = 455\n",
    "new_num = Original_num + num_to_be_added"
   ]
  },
  {
   "cell_type": "code",
   "execution_count": 59,
   "metadata": {},
   "outputs": [
    {
     "data": {
      "text/plain": [
       "1033"
      ]
     },
     "execution_count": 59,
     "metadata": {},
     "output_type": "execute_result"
    }
   ],
   "source": [
    "new_num"
   ]
  },
  {
   "cell_type": "code",
   "execution_count": 2,
   "metadata": {},
   "outputs": [],
   "source": [
    "Gross_income = 70000\n",
    "Quarter = Gross_income / 4"
   ]
  },
  {
   "cell_type": "code",
   "execution_count": 3,
   "metadata": {},
   "outputs": [
    {
     "data": {
      "text/plain": [
       "17500.0"
      ]
     },
     "execution_count": 3,
     "metadata": {},
     "output_type": "execute_result"
    }
   ],
   "source": [
    "Quarter"
   ]
  },
  {
   "cell_type": "code",
   "execution_count": 4,
   "metadata": {},
   "outputs": [],
   "source": [
    "Net_income = 1099876\n",
    "Decile = Net_income / 10"
   ]
  },
  {
   "cell_type": "code",
   "execution_count": 5,
   "metadata": {},
   "outputs": [
    {
     "data": {
      "text/plain": [
       "109987.6"
      ]
     },
     "execution_count": 5,
     "metadata": {},
     "output_type": "execute_result"
    }
   ],
   "source": [
    "Decile"
   ]
  },
  {
   "cell_type": "code",
   "execution_count": 8,
   "metadata": {},
   "outputs": [],
   "source": [
    "Decile = 109987.6\n",
    "Equal_parts = Decile / 4"
   ]
  },
  {
   "cell_type": "code",
   "execution_count": 9,
   "metadata": {},
   "outputs": [
    {
     "data": {
      "text/plain": [
       "27496.9"
      ]
     },
     "execution_count": 9,
     "metadata": {},
     "output_type": "execute_result"
    }
   ],
   "source": [
    "Equal_parts"
   ]
  },
  {
   "cell_type": "code",
   "execution_count": 10,
   "metadata": {},
   "outputs": [
    {
     "data": {
      "text/plain": [
       "1652.3777777777777"
      ]
     },
     "execution_count": 10,
     "metadata": {},
     "output_type": "execute_result"
    }
   ],
   "source": [
    "74357 /45"
   ]
  },
  {
   "cell_type": "code",
   "execution_count": 12,
   "metadata": {},
   "outputs": [
    {
     "data": {
      "text/plain": [
       "11221200"
      ]
     },
     "execution_count": 12,
     "metadata": {},
     "output_type": "execute_result"
    }
   ],
   "source": [
    "323434 * 45 +3434345 -6767675"
   ]
  },
  {
   "cell_type": "markdown",
   "metadata": {},
   "source": [
    "# Math Expressions / Familiar Operators"
   ]
  },
  {
   "cell_type": "code",
   "execution_count": 17,
   "metadata": {},
   "outputs": [],
   "source": [
    "Sum = 3456 + 8987"
   ]
  },
  {
   "cell_type": "code",
   "execution_count": 18,
   "metadata": {},
   "outputs": [
    {
     "name": "stdout",
     "output_type": "stream",
     "text": [
      "12443\n"
     ]
    }
   ],
   "source": [
    "print (Sum)"
   ]
  },
  {
   "cell_type": "code",
   "execution_count": 19,
   "metadata": {},
   "outputs": [],
   "source": [
    "Product = 764 * 34"
   ]
  },
  {
   "cell_type": "code",
   "execution_count": 20,
   "metadata": {},
   "outputs": [
    {
     "name": "stdout",
     "output_type": "stream",
     "text": [
      "25976\n"
     ]
    }
   ],
   "source": [
    "print (Product)"
   ]
  },
  {
   "cell_type": "code",
   "execution_count": 21,
   "metadata": {},
   "outputs": [],
   "source": [
    "Difference = 778478 - 454573"
   ]
  },
  {
   "cell_type": "code",
   "execution_count": 22,
   "metadata": {},
   "outputs": [
    {
     "name": "stdout",
     "output_type": "stream",
     "text": [
      "323905\n"
     ]
    }
   ],
   "source": [
    "print (Difference)"
   ]
  },
  {
   "cell_type": "code",
   "execution_count": 23,
   "metadata": {},
   "outputs": [],
   "source": [
    "Quitient = 34345 / 45474"
   ]
  },
  {
   "cell_type": "code",
   "execution_count": 24,
   "metadata": {},
   "outputs": [
    {
     "name": "stdout",
     "output_type": "stream",
     "text": [
      "0.7552667458327835\n"
     ]
    }
   ],
   "source": [
    "print (Quitient)"
   ]
  },
  {
   "cell_type": "code",
   "execution_count": 27,
   "metadata": {},
   "outputs": [],
   "source": [
    "weight = 455"
   ]
  },
  {
   "cell_type": "code",
   "execution_count": 28,
   "metadata": {},
   "outputs": [
    {
     "name": "stdout",
     "output_type": "stream",
     "text": [
      "455\n"
     ]
    }
   ],
   "source": [
    "print (weight)"
   ]
  },
  {
   "cell_type": "code",
   "execution_count": 29,
   "metadata": {},
   "outputs": [],
   "source": [
    "Dozens = 3 * 12"
   ]
  },
  {
   "cell_type": "code",
   "execution_count": 30,
   "metadata": {},
   "outputs": [
    {
     "name": "stdout",
     "output_type": "stream",
     "text": [
      "36\n"
     ]
    }
   ],
   "source": [
    "print (Dozens)"
   ]
  },
  {
   "cell_type": "markdown",
   "metadata": {},
   "source": [
    "# Variable Naming Dos and Don'ts"
   ]
  },
  {
   "cell_type": "markdown",
   "metadata": {},
   "source": [
    "# Don'ts"
   ]
  },
  {
   "cell_type": "code",
   "execution_count": 31,
   "metadata": {},
   "outputs": [],
   "source": [
    "# Rule 1.  You can't enclose it in quotation marks. \n",
    "# Rule 2.  You can't have any spaces in it.\n",
    "# Rule 3.  It can't be a number or begin with a number.\n",
    "# Rule 4.  a variable can't be any of Python's reserved words"
   ]
  },
  {
   "cell_type": "markdown",
   "metadata": {},
   "source": [
    "# Dos"
   ]
  },
  {
   "cell_type": "code",
   "execution_count": 1,
   "metadata": {},
   "outputs": [],
   "source": [
    "# A variable name can contain only lowercase letters, uppercase letters, numbers, and underscores.\n",
    "# Though a variable name can't be any of Python's keywords, it can contain any of those keywords.\n",
    "# Capital letters are fine, but be careful. Variable names are case-sensitive.\n",
    "# A rose with a lowercase r is not a Rose with an uppercase R.\n",
    "# If you assign the string \"Floribundas\" to the variable rose \n",
    "# and then ask Python for the value assigned to Rose, you'll come up empty\n",
    "# Python's governing body recommends breaking up multi-word variables with underscores.\n",
    "# That's what I'll ask you to do with your own variable names.\n",
    "# It'll make them more readable, and you'll be less likely to get variables mixed up.\n"
   ]
  },
  {
   "cell_type": "markdown",
   "metadata": {},
   "source": [
    "# The Unsimilar Operators"
   ]
  },
  {
   "cell_type": "code",
   "execution_count": 2,
   "metadata": {},
   "outputs": [],
   "source": [
    "# Now we come to know about an other operator is \"%\" this symbol is known as modulo in puthon.\n",
    "# it dosen't devides the two numbers but it shows the reminder after the division or what the left after the division it shows."
   ]
  },
  {
   "cell_type": "code",
   "execution_count": 4,
   "metadata": {},
   "outputs": [],
   "source": [
    "what_left_over = 10 % 3"
   ]
  },
  {
   "cell_type": "code",
   "execution_count": 5,
   "metadata": {},
   "outputs": [
    {
     "data": {
      "text/plain": [
       "1"
      ]
     },
     "execution_count": 5,
     "metadata": {},
     "output_type": "execute_result"
    }
   ],
   "source": [
    "10 % 3"
   ]
  },
  {
   "cell_type": "code",
   "execution_count": 6,
   "metadata": {},
   "outputs": [],
   "source": [
    "reminder = 3445 % 453"
   ]
  },
  {
   "cell_type": "code",
   "execution_count": 7,
   "metadata": {},
   "outputs": [
    {
     "data": {
      "text/plain": [
       "274"
      ]
     },
     "execution_count": 7,
     "metadata": {},
     "output_type": "execute_result"
    }
   ],
   "source": [
    "reminder"
   ]
  },
  {
   "cell_type": "code",
   "execution_count": 9,
   "metadata": {},
   "outputs": [
    {
     "data": {
      "text/plain": [
       "37"
      ]
     },
     "execution_count": 9,
     "metadata": {},
     "output_type": "execute_result"
    }
   ],
   "source": [
    "232 % 65"
   ]
  },
  {
   "cell_type": "code",
   "execution_count": 10,
   "metadata": {},
   "outputs": [],
   "source": [
    "# If one number is devides evenly another the modulo operator assigns 0."
   ]
  },
  {
   "cell_type": "code",
   "execution_count": 11,
   "metadata": {},
   "outputs": [
    {
     "data": {
      "text/plain": [
       "0"
      ]
     },
     "execution_count": 11,
     "metadata": {},
     "output_type": "execute_result"
    }
   ],
   "source": [
    "10 % 2"
   ]
  },
  {
   "cell_type": "code",
   "execution_count": 12,
   "metadata": {},
   "outputs": [
    {
     "data": {
      "text/plain": [
       "0"
      ]
     },
     "execution_count": 12,
     "metadata": {},
     "output_type": "execute_result"
    }
   ],
   "source": [
    "9 % 3"
   ]
  },
  {
   "cell_type": "code",
   "execution_count": 13,
   "metadata": {},
   "outputs": [
    {
     "data": {
      "text/plain": [
       "0"
      ]
     },
     "execution_count": 13,
     "metadata": {},
     "output_type": "execute_result"
    }
   ],
   "source": [
    "100 % 50"
   ]
  },
  {
   "cell_type": "code",
   "execution_count": 14,
   "metadata": {},
   "outputs": [
    {
     "data": {
      "text/plain": [
       "0"
      ]
     },
     "execution_count": 14,
     "metadata": {},
     "output_type": "execute_result"
    }
   ],
   "source": [
    "6500 % 65"
   ]
  },
  {
   "cell_type": "code",
   "execution_count": 15,
   "metadata": {},
   "outputs": [],
   "source": [
    "# we can increase the value by adding any number."
   ]
  },
  {
   "cell_type": "code",
   "execution_count": 18,
   "metadata": {},
   "outputs": [
    {
     "data": {
      "text/plain": [
       "11"
      ]
     },
     "execution_count": 18,
     "metadata": {},
     "output_type": "execute_result"
    }
   ],
   "source": [
    "age = 10\n",
    "age + 1"
   ]
  },
  {
   "cell_type": "code",
   "execution_count": 19,
   "metadata": {},
   "outputs": [],
   "source": [
    "age += 30"
   ]
  },
  {
   "cell_type": "code",
   "execution_count": 20,
   "metadata": {},
   "outputs": [
    {
     "data": {
      "text/plain": [
       "40"
      ]
     },
     "execution_count": 20,
     "metadata": {},
     "output_type": "execute_result"
    }
   ],
   "source": [
    "age"
   ]
  },
  {
   "cell_type": "code",
   "execution_count": 21,
   "metadata": {},
   "outputs": [],
   "source": [
    "age = 19\n",
    "age += 28"
   ]
  },
  {
   "cell_type": "code",
   "execution_count": 22,
   "metadata": {},
   "outputs": [
    {
     "data": {
      "text/plain": [
       "47"
      ]
     },
     "execution_count": 22,
     "metadata": {},
     "output_type": "execute_result"
    }
   ],
   "source": [
    "age"
   ]
  },
  {
   "cell_type": "code",
   "execution_count": 27,
   "metadata": {},
   "outputs": [],
   "source": [
    "height = 35\n",
    "height += 23\n",
    "height -= 17"
   ]
  },
  {
   "cell_type": "code",
   "execution_count": 28,
   "metadata": {},
   "outputs": [
    {
     "data": {
      "text/plain": [
       "41"
      ]
     },
     "execution_count": 28,
     "metadata": {},
     "output_type": "execute_result"
    }
   ],
   "source": [
    "height"
   ]
  },
  {
   "cell_type": "code",
   "execution_count": 32,
   "metadata": {},
   "outputs": [],
   "source": [
    "height = 23\n",
    "height -= 4"
   ]
  },
  {
   "cell_type": "code",
   "execution_count": 33,
   "metadata": {},
   "outputs": [
    {
     "data": {
      "text/plain": [
       "19"
      ]
     },
     "execution_count": 33,
     "metadata": {},
     "output_type": "execute_result"
    }
   ],
   "source": [
    "height"
   ]
  },
  {
   "cell_type": "code",
   "execution_count": 34,
   "metadata": {},
   "outputs": [],
   "source": [
    "width = 45\n",
    "width *= 3"
   ]
  },
  {
   "cell_type": "code",
   "execution_count": 35,
   "metadata": {},
   "outputs": [
    {
     "data": {
      "text/plain": [
       "135"
      ]
     },
     "execution_count": 35,
     "metadata": {},
     "output_type": "execute_result"
    }
   ],
   "source": [
    "width"
   ]
  },
  {
   "cell_type": "code",
   "execution_count": 36,
   "metadata": {},
   "outputs": [],
   "source": [
    "age = 23\n",
    "amount_to_increment = 12\n",
    "age += amount_to_increment"
   ]
  },
  {
   "cell_type": "code",
   "execution_count": 37,
   "metadata": {},
   "outputs": [
    {
     "data": {
      "text/plain": [
       "35"
      ]
     },
     "execution_count": 37,
     "metadata": {},
     "output_type": "execute_result"
    }
   ],
   "source": [
    "age"
   ]
  },
  {
   "cell_type": "code",
   "execution_count": 38,
   "metadata": {},
   "outputs": [],
   "source": [
    "height = 350\n",
    "amount_to_decrement = 45\n",
    "height -= amount_to_decrement"
   ]
  },
  {
   "cell_type": "code",
   "execution_count": 39,
   "metadata": {},
   "outputs": [
    {
     "data": {
      "text/plain": [
       "305"
      ]
     },
     "execution_count": 39,
     "metadata": {},
     "output_type": "execute_result"
    }
   ],
   "source": [
    "height"
   ]
  },
  {
   "cell_type": "code",
   "execution_count": 40,
   "metadata": {},
   "outputs": [],
   "source": [
    "width = 45\n",
    "amount_to_multiplied = 4\n",
    "width *= amount_to_multiplied"
   ]
  },
  {
   "cell_type": "code",
   "execution_count": 41,
   "metadata": {},
   "outputs": [
    {
     "data": {
      "text/plain": [
       "180"
      ]
     },
     "execution_count": 41,
     "metadata": {},
     "output_type": "execute_result"
    }
   ],
   "source": [
    "width"
   ]
  },
  {
   "cell_type": "code",
   "execution_count": 42,
   "metadata": {},
   "outputs": [],
   "source": [
    "Gross_profit = 50000\n",
    "amount_to_devide = 3\n",
    "Gross_profit /= amount_to_devide"
   ]
  },
  {
   "cell_type": "code",
   "execution_count": 47,
   "metadata": {},
   "outputs": [
    {
     "data": {
      "text/plain": [
       "16666.666666666668"
      ]
     },
     "execution_count": 47,
     "metadata": {},
     "output_type": "execute_result"
    }
   ],
   "source": [
    "Gross_profit"
   ]
  },
  {
   "cell_type": "markdown",
   "metadata": {},
   "source": [
    "# Eliminating Ambiguity."
   ]
  },
  {
   "cell_type": "code",
   "execution_count": 48,
   "metadata": {},
   "outputs": [],
   "source": [
    "# The ambiguity's rule is same in Python as in Algebra."
   ]
  },
  {
   "cell_type": "code",
   "execution_count": 52,
   "metadata": {},
   "outputs": [
    {
     "data": {
      "text/plain": [
       "12"
      ]
     },
     "execution_count": 52,
     "metadata": {},
     "output_type": "execute_result"
    }
   ],
   "source": [
    "23 + 45 -56"
   ]
  },
  {
   "cell_type": "code",
   "execution_count": 53,
   "metadata": {},
   "outputs": [
    {
     "data": {
      "text/plain": [
       "248"
      ]
     },
     "execution_count": 53,
     "metadata": {},
     "output_type": "execute_result"
    }
   ],
   "source": [
    "78 + 34 * 5"
   ]
  },
  {
   "cell_type": "code",
   "execution_count": 54,
   "metadata": {},
   "outputs": [
    {
     "data": {
      "text/plain": [
       "-493"
      ]
     },
     "execution_count": 54,
     "metadata": {},
     "output_type": "execute_result"
    }
   ],
   "source": [
    "78 + 45 -88 * 7"
   ]
  },
  {
   "cell_type": "code",
   "execution_count": 55,
   "metadata": {},
   "outputs": [
    {
     "data": {
      "text/plain": [
       "308.57894736842104"
      ]
     },
     "execution_count": 55,
     "metadata": {},
     "output_type": "execute_result"
    }
   ],
   "source": [
    "233 + 89 - 85 * 12 / 76"
   ]
  },
  {
   "cell_type": "code",
   "execution_count": 56,
   "metadata": {},
   "outputs": [],
   "source": [
    "total_cost = 57685 + 45 -23 *56"
   ]
  },
  {
   "cell_type": "code",
   "execution_count": 57,
   "metadata": {},
   "outputs": [
    {
     "data": {
      "text/plain": [
       "56442"
      ]
     },
     "execution_count": 57,
     "metadata": {},
     "output_type": "execute_result"
    }
   ],
   "source": [
    "total_cost"
   ]
  },
  {
   "cell_type": "code",
   "execution_count": 65,
   "metadata": {},
   "outputs": [],
   "source": [
    "Gross_Income = 40008 * 234 + 5653 - 8695"
   ]
  },
  {
   "cell_type": "code",
   "execution_count": 66,
   "metadata": {},
   "outputs": [
    {
     "data": {
      "text/plain": [
       "9358830"
      ]
     },
     "execution_count": 66,
     "metadata": {},
     "output_type": "execute_result"
    }
   ],
   "source": [
    "Gross_Income"
   ]
  },
  {
   "cell_type": "code",
   "execution_count": 68,
   "metadata": {},
   "outputs": [],
   "source": [
    "My_Salary = 100000\n",
    "My_liablities = 34534 + 7484 - 78475 /45\n",
    "Buged = My_Salary - My_liablities"
   ]
  },
  {
   "cell_type": "code",
   "execution_count": 69,
   "metadata": {},
   "outputs": [
    {
     "data": {
      "text/plain": [
       "59725.88888888889"
      ]
     },
     "execution_count": 69,
     "metadata": {},
     "output_type": "execute_result"
    }
   ],
   "source": [
    "Buged"
   ]
  },
  {
   "cell_type": "code",
   "execution_count": 70,
   "metadata": {},
   "outputs": [],
   "source": [
    "Income = 53455543 - 4645 *456 / 4533"
   ]
  },
  {
   "cell_type": "code",
   "execution_count": 71,
   "metadata": {},
   "outputs": [
    {
     "data": {
      "text/plain": [
       "53455075.73328921"
      ]
     },
     "execution_count": 71,
     "metadata": {},
     "output_type": "execute_result"
    }
   ],
   "source": [
    "Income"
   ]
  },
  {
   "cell_type": "code",
   "execution_count": 72,
   "metadata": {},
   "outputs": [
    {
     "data": {
      "text/plain": [
       "446239"
      ]
     },
     "execution_count": 72,
     "metadata": {},
     "output_type": "execute_result"
    }
   ],
   "source": [
    "34 + (453 * 985)"
   ]
  },
  {
   "cell_type": "code",
   "execution_count": 75,
   "metadata": {},
   "outputs": [],
   "source": [
    "age = 5 + (12 * 13)"
   ]
  },
  {
   "cell_type": "code",
   "execution_count": 76,
   "metadata": {},
   "outputs": [
    {
     "data": {
      "text/plain": [
       "161"
      ]
     },
     "execution_count": 76,
     "metadata": {},
     "output_type": "execute_result"
    }
   ],
   "source": [
    "age"
   ]
  },
  {
   "cell_type": "code",
   "execution_count": 77,
   "metadata": {},
   "outputs": [],
   "source": [
    "height = 33 - (23 / 12) +12"
   ]
  },
  {
   "cell_type": "code",
   "execution_count": 78,
   "metadata": {},
   "outputs": [
    {
     "data": {
      "text/plain": [
       "43.08333333333333"
      ]
     },
     "execution_count": 78,
     "metadata": {},
     "output_type": "execute_result"
    }
   ],
   "source": [
    "height"
   ]
  },
  {
   "cell_type": "code",
   "execution_count": 80,
   "metadata": {},
   "outputs": [],
   "source": [
    "result_of_computation = 3 * (34 * 4) + 34 -3"
   ]
  },
  {
   "cell_type": "code",
   "execution_count": 81,
   "metadata": {},
   "outputs": [
    {
     "data": {
      "text/plain": [
       "439"
      ]
     },
     "execution_count": 81,
     "metadata": {},
     "output_type": "execute_result"
    }
   ],
   "source": [
    "result_of_computation"
   ]
  },
  {
   "cell_type": "code",
   "execution_count": 88,
   "metadata": {},
   "outputs": [
    {
     "data": {
      "text/plain": [
       "414"
      ]
     },
     "execution_count": 88,
     "metadata": {},
     "output_type": "execute_result"
    }
   ],
   "source": [
    "3 + 3 + (34 * 12)"
   ]
  },
  {
   "cell_type": "markdown",
   "metadata": {},
   "source": [
    "# Concatenating Strings"
   ]
  },
  {
   "cell_type": "code",
   "execution_count": 1,
   "metadata": {},
   "outputs": [],
   "source": [
    "# As we know that concatenating to combine two or more than two together."
   ]
  },
  {
   "cell_type": "code",
   "execution_count": 2,
   "metadata": {},
   "outputs": [],
   "source": [
    "Whole_Greeting = \"Hello\" + \"World\""
   ]
  },
  {
   "cell_type": "code",
   "execution_count": 4,
   "metadata": {},
   "outputs": [
    {
     "data": {
      "text/plain": [
       "'HelloWorld'"
      ]
     },
     "execution_count": 4,
     "metadata": {},
     "output_type": "execute_result"
    }
   ],
   "source": [
    "Whole_Greeting # This is called the concatenation but we can also add some more concatenation in this way."
   ]
  },
  {
   "cell_type": "code",
   "execution_count": 5,
   "metadata": {},
   "outputs": [
    {
     "data": {
      "text/plain": [
       "'Hello,World!'"
      ]
     },
     "execution_count": 5,
     "metadata": {},
     "output_type": "execute_result"
    }
   ],
   "source": [
    "Greetings = \"Hello\"\n",
    "Seperator = \",\"\n",
    "Addressee = \"World\"\n",
    "Punctuation = \"!\"\n",
    "Greetings + Seperator + Addressee + Punctuation"
   ]
  },
  {
   "cell_type": "code",
   "execution_count": 6,
   "metadata": {},
   "outputs": [],
   "source": [
    "Name = \"Ali\"\n",
    "Id = \"CSC-18F-041\"\n",
    "Father_Name = \"Talib Hussain\"\n",
    "Address = \"Defense\"\n",
    "City = \"Karachi\"\n",
    "Village = \"Dadu\"\n",
    "\n",
    "Bio_Data = Name + Id + Father_Name + Address + City + Village"
   ]
  },
  {
   "cell_type": "code",
   "execution_count": 7,
   "metadata": {},
   "outputs": [
    {
     "name": "stdout",
     "output_type": "stream",
     "text": [
      "AliCSC-18F-041Talib HussainDefenseKarachiDadu\n"
     ]
    }
   ],
   "source": [
    "print (Bio_Data)"
   ]
  },
  {
   "cell_type": "code",
   "execution_count": 12,
   "metadata": {},
   "outputs": [],
   "source": [
    "Gross_Income = \"total\"\n",
    "Net_Income = \"profit\"\n",
    "Net_rate = \"total,\" + \"profit!\"\n"
   ]
  },
  {
   "cell_type": "code",
   "execution_count": 13,
   "metadata": {},
   "outputs": [
    {
     "data": {
      "text/plain": [
       "'total,profit!'"
      ]
     },
     "execution_count": 13,
     "metadata": {},
     "output_type": "execute_result"
    }
   ],
   "source": [
    "Net_rate"
   ]
  },
  {
   "cell_type": "code",
   "execution_count": 11,
   "metadata": {},
   "outputs": [],
   "source": [
    "# It will work weather you concatenate the strings or the variable as well."
   ]
  },
  {
   "cell_type": "code",
   "execution_count": 21,
   "metadata": {},
   "outputs": [
    {
     "name": "stdout",
     "output_type": "stream",
     "text": [
      "Hello,World!\n"
     ]
    }
   ],
   "source": [
    "print (\"Hello\" + Seperator + \"World\" + Punctuation)"
   ]
  },
  {
   "cell_type": "code",
   "execution_count": 27,
   "metadata": {},
   "outputs": [
    {
     "name": "stdout",
     "output_type": "stream",
     "text": [
      "The sum of 6 plus 6 is 12\n"
     ]
    }
   ],
   "source": [
    "print (\"The sum of 6 plus 6 is \"+ \"12\")"
   ]
  },
  {
   "cell_type": "code",
   "execution_count": 29,
   "metadata": {},
   "outputs": [
    {
     "name": "stdout",
     "output_type": "stream",
     "text": [
      "The difference of 12 minus 7 is 5\n"
     ]
    }
   ],
   "source": [
    "print (\"The difference of 12 minus 7 is \" + \"5\")"
   ]
  },
  {
   "cell_type": "markdown",
   "metadata": {},
   "source": [
    "# If Statement"
   ]
  },
  {
   "cell_type": "code",
   "execution_count": 30,
   "metadata": {},
   "outputs": [],
   "source": [
    "# The if statement is also known as the if condition it is the single condition which is used to provide a condition.\n",
    "# It is also known as Conditional Statement like we use in common sentences like if you work hard, you will succeed."
   ]
  },
  {
   "cell_type": "code",
   "execution_count": 44,
   "metadata": {},
   "outputs": [
    {
     "name": "stdout",
     "output_type": "stream",
     "text": [
      "Everything makes sense.\n"
     ]
    }
   ],
   "source": [
    " if 2 + 2 == 4: print(\"Everything makes sense.\")"
   ]
  },
  {
   "cell_type": "code",
   "execution_count": 45,
   "metadata": {},
   "outputs": [
    {
     "name": "stdout",
     "output_type": "stream",
     "text": [
      "Ali is crazy\n"
     ]
    }
   ],
   "source": [
    "if 3 + 3 == 6:\n",
    "    print (\"Ali is crazy\")"
   ]
  },
  {
   "cell_type": "code",
   "execution_count": 48,
   "metadata": {},
   "outputs": [
    {
     "name": "stdout",
     "output_type": "stream",
     "text": [
      "We Won\n"
     ]
    }
   ],
   "source": [
    "score = 100\n",
    "if score == 100:\n",
    "    print (\"We Won\")"
   ]
  },
  {
   "cell_type": "code",
   "execution_count": 59,
   "metadata": {},
   "outputs": [
    {
     "name": "stdout",
     "output_type": "stream",
     "text": [
      "you are a normal\n"
     ]
    }
   ],
   "source": [
    "eyes = 2\n",
    "ear = 2\n",
    "if eyes == 2 & ear == 2:\n",
    "    print (\"you are a normal\")"
   ]
  },
  {
   "cell_type": "code",
   "execution_count": 66,
   "metadata": {},
   "outputs": [
    {
     "name": "stdout",
     "output_type": "stream",
     "text": [
      "stop\n"
     ]
    }
   ],
   "source": [
    "bus = \"station\"\n",
    "if bus == \"station\":\n",
    "    print (\"stop\")"
   ]
  },
  {
   "cell_type": "code",
   "execution_count": 67,
   "metadata": {},
   "outputs": [
    {
     "name": "stdout",
     "output_type": "stream",
     "text": [
      "yes, it's cat\n"
     ]
    }
   ],
   "source": [
    "spacies = \"cat\"\n",
    "if spacies == \"cat\":\n",
    "    print(\"yes, it's cat\")"
   ]
  },
  {
   "cell_type": "code",
   "execution_count": 75,
   "metadata": {},
   "outputs": [
    {
     "name": "stdout",
     "output_type": "stream",
     "text": [
      "open the fan\n"
     ]
    }
   ],
   "source": [
    "button = \"on\"\n",
    "if button == \"on\":\n",
    "    print(\"open the fan\")"
   ]
  },
  {
   "cell_type": "code",
   "execution_count": 76,
   "metadata": {},
   "outputs": [
    {
     "name": "stdout",
     "output_type": "stream",
     "text": [
      "it's a cat\n"
     ]
    }
   ],
   "source": [
    "if spacies == \"cat\":\n",
    "    status = \"ok\"\n",
    "    kingdom = \"animal\"\n",
    "    print (\"it's a cat\")"
   ]
  },
  {
   "cell_type": "code",
   "execution_count": 80,
   "metadata": {},
   "outputs": [
    {
     "name": "stdout",
     "output_type": "stream",
     "text": [
      "I got corrected\n"
     ]
    }
   ],
   "source": [
    "if 2 + 2 == 4:\n",
    "    print (\"I got corrected\")"
   ]
  },
  {
   "cell_type": "code",
   "execution_count": 81,
   "metadata": {},
   "outputs": [
    {
     "name": "stdout",
     "output_type": "stream",
     "text": [
      "it works\n"
     ]
    }
   ],
   "source": [
    "if 12 * 4 == 48:\n",
    "    print (\"it works\")"
   ]
  },
  {
   "cell_type": "code",
   "execution_count": 88,
   "metadata": {},
   "outputs": [
    {
     "name": "stdout",
     "output_type": "stream",
     "text": [
      "so far, so good\n",
      "weldone!\n",
      "congratulations!\n"
     ]
    }
   ],
   "source": [
    "the_number_of_weapons = \"unlimited\"\n",
    "if the_number_of_weapons == \"unlimited\":\n",
    "    print (\"so far, so good\")\n",
    "    print (\"weldone!\")\n",
    "    print (\"congratulations!\")"
   ]
  },
  {
   "cell_type": "markdown",
   "metadata": {},
   "source": [
    "# Comparision Operators"
   ]
  },
  {
   "cell_type": "code",
   "execution_count": 4,
   "metadata": {},
   "outputs": [],
   "source": [
    "# Let's talk a little more about ==. It's a type of comparison operator, specifically it's the equality operator.\n",
    "#  As you learned in the last chapter, you use it to compare two things to see if they're equal.\n",
    "# we can use an equality operator to compare a string with a number, or variable with an string or number or variable with an variable.\n",
    "#  All of the following are legal first lines in if statements: "
   ]
  },
  {
   "cell_type": "code",
   "execution_count": 9,
   "metadata": {},
   "outputs": [],
   "source": [
    "\n",
    "full_name = \"Mark\"\n",
    "full_name = \"Mayers\"\n",
    "if full_name == \"Mark\" + \" \" + \"Mayers\":\n",
    "    print (\"better luck for next time\")\n",
    "        "
   ]
  },
  {
   "cell_type": "code",
   "execution_count": 5,
   "metadata": {},
   "outputs": [],
   "source": [
    "# This is an other comparision operator \"!=\" which means not equal to and it's the opposite of \"==\""
   ]
  },
  {
   "cell_type": "code",
   "execution_count": 6,
   "metadata": {},
   "outputs": [
    {
     "name": "stdout",
     "output_type": "stream",
     "text": [
      "You are not from Pakistan\n"
     ]
    }
   ],
   "source": [
    "Flag = \"Pakistan\"\n",
    "Flag = \"India\"\n",
    "if Flag != \"Pakistan\":\n",
    "    print (\"You are not from Pakistan\")\n",
    "    if Flag == \"pakistan\":\n",
    "        print (\"I am a Pakistani\")"
   ]
  },
  {
   "cell_type": "code",
   "execution_count": 10,
   "metadata": {},
   "outputs": [],
   "source": [
    "pakistan = 250\n",
    "if pakistan != 250:\n",
    "    print (\"We lost\")"
   ]
  },
  {
   "cell_type": "code",
   "execution_count": 11,
   "metadata": {},
   "outputs": [
    {
     "name": "stdout",
     "output_type": "stream",
     "text": [
      "Pak Wins\n"
     ]
    }
   ],
   "source": [
    "pakistan = 250\n",
    "if pakistan == 250:\n",
    "    print (\"Pak Wins\")"
   ]
  },
  {
   "cell_type": "code",
   "execution_count": 13,
   "metadata": {},
   "outputs": [],
   "source": [
    "# lets talk about some more comparision operators\n",
    "# 1. > Greater than\n",
    "# 2. < Less than\n",
    "# 3. => Greater than or equal to\n",
    "# 4. =< Less than or equal to"
   ]
  },
  {
   "cell_type": "code",
   "execution_count": 15,
   "metadata": {},
   "outputs": [
    {
     "name": "stdout",
     "output_type": "stream",
     "text": [
      "x must be whole number\n"
     ]
    }
   ],
   "source": [
    "x = 10\n",
    "if x > 0:\n",
    "    print (\"x must be whole number\")"
   ]
  },
  {
   "cell_type": "code",
   "execution_count": 21,
   "metadata": {},
   "outputs": [
    {
     "name": "stdout",
     "output_type": "stream",
     "text": [
      "y must be a friction number\n"
     ]
    }
   ],
   "source": [
    "y = 0.34\n",
    "if y < 1:\n",
    "    print (\"y must be a friction number\")"
   ]
  },
  {
   "cell_type": "code",
   "execution_count": 23,
   "metadata": {},
   "outputs": [
    {
     "name": "stdout",
     "output_type": "stream",
     "text": [
      "On\n"
     ]
    }
   ],
   "source": [
    "1 > 0\n",
    "if 1 > 0:\n",
    "    print (\"On\")"
   ]
  },
  {
   "cell_type": "code",
   "execution_count": 24,
   "metadata": {},
   "outputs": [
    {
     "name": "stdout",
     "output_type": "stream",
     "text": [
      "10 is greater than 9\n"
     ]
    }
   ],
   "source": [
    "9 < 10\n",
    "if 9 < 10:\n",
    "    print (\"10 is greater than 9\")"
   ]
  },
  {
   "cell_type": "code",
   "execution_count": 26,
   "metadata": {},
   "outputs": [],
   "source": [
    "8 >= 9\n",
    "if 8 >= 9:\n",
    "    print (\"8 is greater than or equal to 9\")"
   ]
  },
  {
   "cell_type": "code",
   "execution_count": 27,
   "metadata": {},
   "outputs": [
    {
     "name": "stdout",
     "output_type": "stream",
     "text": [
      "Z is greater than or equal to 10\n"
     ]
    }
   ],
   "source": [
    "z = 10\n",
    "if z >= 10:\n",
    "    print (\"Z is greater than or equal to 10\")"
   ]
  },
  {
   "cell_type": "code",
   "execution_count": 29,
   "metadata": {},
   "outputs": [
    {
     "name": "stdout",
     "output_type": "stream",
     "text": [
      "Wingle Wingle\n"
     ]
    }
   ],
   "source": [
    "p = 100\n",
    "if p <= 101:\n",
    "    print (\"Wingle Wingle\")"
   ]
  },
  {
   "cell_type": "markdown",
   "metadata": {},
   "source": [
    "# else & elif Statement"
   ]
  },
  {
   "cell_type": "code",
   "execution_count": 4,
   "metadata": {},
   "outputs": [
    {
     "name": "stdout",
     "output_type": "stream",
     "text": [
      "Male\n"
     ]
    }
   ],
   "source": [
    "Gender = \"Female\"\n",
    "Gender = \"Male\"\n",
    "if Gender == \"Male\":\n",
    "    print (\"Male\")\n",
    "else:\n",
    "    print (\"Female\")"
   ]
  },
  {
   "cell_type": "code",
   "execution_count": 5,
   "metadata": {},
   "outputs": [
    {
     "name": "stdout",
     "output_type": "stream",
     "text": [
      "Yup, It's a cat\n"
     ]
    }
   ],
   "source": [
    "Species = \"Cat\"\n",
    "if Species == \"Cat\":\n",
    "    print(\"Yup, It's a cat\")\n",
    "else:\n",
    "    print(\"It's not a cat\")"
   ]
  },
  {
   "cell_type": "code",
   "execution_count": 43,
   "metadata": {},
   "outputs": [
    {
     "name": "stdout",
     "output_type": "stream",
     "text": [
      "buy_score = 5\n"
     ]
    }
   ],
   "source": [
    "donut_condition = \"old\"\n",
    "donut_price = \"low\"\n",
    "if donut_condition == \"fresh\":\n",
    "    print (\"buy_score = 10\")\n",
    "elif donut_price == \"low\":\n",
    "    print (\"buy_score = 5\")\n",
    "else:\n",
    "    print (\"buy_score = 0\")"
   ]
  },
  {
   "cell_type": "code",
   "execution_count": 8,
   "metadata": {},
   "outputs": [
    {
     "name": "stdout",
     "output_type": "stream",
     "text": [
      "It's a good day for business\n"
     ]
    }
   ],
   "source": [
    "profit_margion = 100000\n",
    "loss_margion = 1000\n",
    "if profit_margion == 100000:\n",
    "    print (\"It's a good day for business\")\n",
    "elif loss_margion == 1000:\n",
    "    print(\"It's a bad luck today\")\n",
    "else:\n",
    "    print (\"I am the man of rules\")"
   ]
  },
  {
   "cell_type": "code",
   "execution_count": 14,
   "metadata": {},
   "outputs": [
    {
     "name": "stdout",
     "output_type": "stream",
     "text": [
      "House is for sale\n"
     ]
    }
   ],
   "source": [
    "House_price = 60000\n",
    "if House_price >= 60000:\n",
    "    print (\"House is for sale\")\n",
    "elif House_price < 60000:\n",
    "    print (\"Deal is in loss\")\n",
    "else:\n",
    "    print (\"We can not sale this property\")"
   ]
  },
  {
   "cell_type": "code",
   "execution_count": 17,
   "metadata": {},
   "outputs": [
    {
     "name": "stdout",
     "output_type": "stream",
     "text": [
      "Usma has more ballons than Waqar\n"
     ]
    }
   ],
   "source": [
    "Usma = 10\n",
    "Nasir = 8\n",
    "Waqar = 7\n",
    "if Usma > Waqar:\n",
    "    print(\"Usma has more ballons than Waqar\")\n",
    "elif Nasir >= Usma:\n",
    "    print(\"Usma and Nasir both have equal ballons\")\n",
    "else:\n",
    "    print(\"Waqar has more ballons than all\")"
   ]
  },
  {
   "cell_type": "code",
   "execution_count": 29,
   "metadata": {},
   "outputs": [],
   "source": [
    "chiken = 250\n",
    "if chiken == \"fresh\":\n",
    "    print(\"chiken is fresh\")\n",
    "    chiken += 30\n",
    "elif chiken == \"cooked\":\n",
    "    chiken += 150\n",
    "else:\n",
    "    chiken\n",
    "    "
   ]
  },
  {
   "cell_type": "code",
   "execution_count": 30,
   "metadata": {},
   "outputs": [
    {
     "data": {
      "text/plain": [
       "250"
      ]
     },
     "execution_count": 30,
     "metadata": {},
     "output_type": "execute_result"
    }
   ],
   "source": [
    "chiken"
   ]
  },
  {
   "cell_type": "markdown",
   "metadata": {},
   "source": [
    "# Testing sets of conditions"
   ]
  },
  {
   "cell_type": "code",
   "execution_count": 20,
   "metadata": {},
   "outputs": [
    {
     "name": "stdout",
     "output_type": "stream",
     "text": [
      "He can play and made record in Olympic Championship in 2020\n"
     ]
    }
   ],
   "source": [
    "weight = 300\n",
    "time = 10\n",
    "if weight >= 300 and time <= 10:\n",
    "    print(\"He can play and made record in Olympic Championship in 2020\")"
   ]
  },
  {
   "cell_type": "code",
   "execution_count": 21,
   "metadata": {},
   "outputs": [],
   "source": [
    "if weight > 300 and time < 6 and age > 17 and height < 72:\n",
    "    status = \"try to recruit him\""
   ]
  },
  {
   "cell_type": "code",
   "execution_count": 69,
   "metadata": {},
   "outputs": [
    {
     "name": "stdout",
     "output_type": "stream",
     "text": [
      "try to recruit him\n"
     ]
    }
   ],
   "source": [
    "weight = 300\n",
    "time = 6\n",
    "if weight > 250 and time < 7:\n",
    "    print (\"try to recruit him\")"
   ]
  },
  {
   "cell_type": "code",
   "execution_count": 70,
   "metadata": {},
   "outputs": [
    {
     "name": "stdout",
     "output_type": "stream",
     "text": [
      "You are ready to join PAF\n"
     ]
    }
   ],
   "source": [
    "age = 17\n",
    "weight = 65\n",
    "height = 155\n",
    "if age >= 17 or weight <= 65 or height != 155:\n",
    "    print (\"You are ready to join PAF\")"
   ]
  },
  {
   "cell_type": "code",
   "execution_count": 71,
   "metadata": {},
   "outputs": [
    {
     "name": "stdout",
     "output_type": "stream",
     "text": [
      "This movie will be blackbasterd\n"
     ]
    }
   ],
   "source": [
    "Movie_pixel = 1080\n",
    "Movie_duration = 120\n",
    "Movie_year = 2019\n",
    "if Movie_pixel > 1070 and Movie_duration <= 120 and Movie_year == 2019:\n",
    "    print(\"This movie will be blackbasterd\")"
   ]
  },
  {
   "cell_type": "code",
   "execution_count": 73,
   "metadata": {},
   "outputs": [
    {
     "name": "stdout",
     "output_type": "stream",
     "text": [
      "Welcome to Leeds College!\n"
     ]
    }
   ],
   "source": [
    "avg = 2.5\n",
    "GPA = 2.5\n",
    "parent = \"alum\"\n",
    "if avg or GPA > 2.5 or parent == \"alum\":\n",
    "    print (\"Welcome to Leeds College!\")"
   ]
  },
  {
   "cell_type": "code",
   "execution_count": 74,
   "metadata": {},
   "outputs": [
    {
     "name": "stdout",
     "output_type": "stream",
     "text": [
      "condition is passed\n"
     ]
    }
   ],
   "source": [
    "age = 66\n",
    "res = \"U.K\"\n",
    "if age > 65 or age < 21 and res == \"U.K.\":\n",
    "    print (\"condition is passed\")"
   ]
  },
  {
   "cell_type": "code",
   "execution_count": 80,
   "metadata": {},
   "outputs": [],
   "source": [
    "age = 67\n",
    "res = \"U.K\"\n",
    "if (age > 65 or age < 21) and res == \"U.K.\":\n",
    "    status = \"You are either a youn or an old\""
   ]
  },
  {
   "cell_type": "markdown",
   "metadata": {},
   "source": [
    "# Mathematical Statistics/ Statistics"
   ]
  },
  {
   "cell_type": "markdown",
   "metadata": {},
   "source": [
    "# Using mean function in numerical python"
   ]
  },
  {
   "cell_type": "code",
   "execution_count": null,
   "metadata": {},
   "outputs": [],
   "source": [
    "# To find the we have the function in numpy means numerical python. so we have used it bellow."
   ]
  },
  {
   "cell_type": "code",
   "execution_count": 4,
   "metadata": {},
   "outputs": [
    {
     "data": {
      "text/plain": [
       "3.5"
      ]
     },
     "execution_count": 4,
     "metadata": {},
     "output_type": "execute_result"
    }
   ],
   "source": [
    "import numpy as np\n",
    "np.mean([1,4,3,2,6,4,4,3,2,6])"
   ]
  },
  {
   "cell_type": "code",
   "execution_count": 6,
   "metadata": {},
   "outputs": [
    {
     "data": {
      "text/plain": [
       "15.25"
      ]
     },
     "execution_count": 6,
     "metadata": {},
     "output_type": "execute_result"
    }
   ],
   "source": [
    "import numpy as np\n",
    "np.mean([33,4,56,6,3,7,6,7])"
   ]
  },
  {
   "cell_type": "code",
   "execution_count": 8,
   "metadata": {},
   "outputs": [
    {
     "data": {
      "text/plain": [
       "38.142857142857146"
      ]
     },
     "execution_count": 8,
     "metadata": {},
     "output_type": "execute_result"
    }
   ],
   "source": [
    "import numpy as np\n",
    "np.mean([22,56,7,86,8,9,79])"
   ]
  },
  {
   "cell_type": "code",
   "execution_count": 49,
   "metadata": {},
   "outputs": [
    {
     "data": {
      "text/plain": [
       "117.25"
      ]
     },
     "execution_count": 49,
     "metadata": {},
     "output_type": "execute_result"
    }
   ],
   "source": [
    "import numpy as np\n",
    "np.mean([23,34,656,76,87,55,3,4])"
   ]
  },
  {
   "cell_type": "markdown",
   "metadata": {},
   "source": [
    "# Lists"
   ]
  },
  {
   "cell_type": "code",
   "execution_count": 50,
   "metadata": {},
   "outputs": [],
   "source": [
    "# Lets assign some string values to some variables."
   ]
  },
  {
   "cell_type": "code",
   "execution_count": 51,
   "metadata": {},
   "outputs": [],
   "source": [
    "city_0 = \"Karachi\"\n",
    "city_1 = \"Hyderabad\"\n",
    "city_2 = \"Larkana\"\n",
    "city_3 = \"Islamabad\"\n",
    "city_4 = \"Lahore\"\n",
    "city_5 = \"Kashmir\"\n",
    "city_6 = \"Faisalabad\""
   ]
  },
  {
   "cell_type": "code",
   "execution_count": 52,
   "metadata": {},
   "outputs": [],
   "source": [
    "# The variable names are all the same, except they end in different numbers.\n",
    "# Now, having made these assignments, if I code... "
   ]
  },
  {
   "cell_type": "code",
   "execution_count": 54,
   "metadata": {},
   "outputs": [
    {
     "name": "stdout",
     "output_type": "stream",
     "text": [
      "Welcome to Larkana\n"
     ]
    }
   ],
   "source": [
    "print (\"Welcome to \" +city_2)"
   ]
  },
  {
   "cell_type": "code",
   "execution_count": 58,
   "metadata": {},
   "outputs": [
    {
     "name": "stdout",
     "output_type": "stream",
     "text": [
      "Welcome to Karachi\n",
      "Welcome to Hyderabad\n",
      "Welcome to Larkana\n",
      "Welcome to Islamabad\n",
      "Welcome to Lahore\n",
      "Welcome to Kashmir\n",
      "Welcome to Faisalabad\n"
     ]
    }
   ],
   "source": [
    "print (\"Welcome to \" +city_0)\n",
    "print (\"Welcome to \" +city_1)\n",
    "print (\"Welcome to \" +city_2)\n",
    "print (\"Welcome to \" +city_3)\n",
    "print (\"Welcome to \" +city_4)\n",
    "print (\"Welcome to \" +city_5)\n",
    "print (\"Welcome to \" +city_6)"
   ]
  },
  {
   "cell_type": "code",
   "execution_count": 21,
   "metadata": {},
   "outputs": [
    {
     "ename": "NameError",
     "evalue": "name 'task' is not defined",
     "output_type": "error",
     "traceback": [
      "\u001b[1;31m---------------------------------------------------------------------------\u001b[0m",
      "\u001b[1;31mNameError\u001b[0m                                 Traceback (most recent call last)",
      "\u001b[1;32m<ipython-input-21-e3ffdcbff293>\u001b[0m in \u001b[0;36m<module>\u001b[1;34m\u001b[0m\n\u001b[1;32m----> 1\u001b[1;33m \u001b[1;32mdel\u001b[0m \u001b[0mtask\u001b[0m\u001b[1;33m[\u001b[0m\u001b[1;36m6\u001b[0m\u001b[1;33m]\u001b[0m\u001b[1;33m\u001b[0m\u001b[1;33m\u001b[0m\u001b[0m\n\u001b[0m",
      "\u001b[1;31mNameError\u001b[0m: name 'task' is not defined"
     ]
    }
   ],
   "source": [
    "del tasks[6]"
   ]
  },
  {
   "cell_type": "code",
   "execution_count": 59,
   "metadata": {},
   "outputs": [],
   "source": [
    "# a list is a variable that can have a sequence of values assigned to it. In a list, these values are known as elements.\n",
    "# Define a list in this way.\n",
    "# as we know that in python the list is just like an array and it starts from 0."
   ]
  },
  {
   "cell_type": "code",
   "execution_count": 60,
   "metadata": {},
   "outputs": [],
   "source": [
    "cities = [\"Karachi\", \"Hyderabad\", \"Larkana\", \"Islamabad\", \"Lahore\", \"Kashmir\", \"Faisalabad\"]"
   ]
  },
  {
   "cell_type": "code",
   "execution_count": 61,
   "metadata": {},
   "outputs": [
    {
     "name": "stdout",
     "output_type": "stream",
     "text": [
      "Welcome to Hyderabad\n"
     ]
    }
   ],
   "source": [
    "print (\"Welcome to \" +cities[1])"
   ]
  },
  {
   "cell_type": "code",
   "execution_count": 66,
   "metadata": {},
   "outputs": [
    {
     "name": "stdout",
     "output_type": "stream",
     "text": [
      "Welcome to Islamabad\n",
      "Welcome to Karachi\n",
      "Welcome to Larkana\n",
      "Welcome to Faisalabad\n",
      "Welcome to Larkana\n",
      "Welcome to Kashmir\n"
     ]
    }
   ],
   "source": [
    "print (\"Welcome to \" +cities[3])\n",
    "print (\"Welcome to \" +cities[0])\n",
    "print (\"Welcome to \" +cities[2])\n",
    "print (\"Welcome to \" +cities[-1])\n",
    "print (\"Welcome to \" +cities[-5])\n",
    "print (\"Welcome to \" +cities[5])"
   ]
  },
  {
   "cell_type": "code",
   "execution_count": 67,
   "metadata": {},
   "outputs": [],
   "source": [
    "# Adding and changing in lists.\n",
    "# in above code we have six cities if we want to add one more city we code as..."
   ]
  },
  {
   "cell_type": "code",
   "execution_count": 68,
   "metadata": {},
   "outputs": [],
   "source": [
    "cities.append(\"Sukkur\")"
   ]
  },
  {
   "cell_type": "code",
   "execution_count": 69,
   "metadata": {},
   "outputs": [
    {
     "name": "stdout",
     "output_type": "stream",
     "text": [
      "['Karachi', 'Hyderabad', 'Larkana', 'Islamabad', 'Lahore', 'Kashmir', 'Faisalabad', 'Sukkur']\n"
     ]
    }
   ],
   "source": [
    "print (cities)"
   ]
  },
  {
   "cell_type": "code",
   "execution_count": 70,
   "metadata": {},
   "outputs": [],
   "source": [
    "# There's also an alternative way to adding."
   ]
  },
  {
   "cell_type": "code",
   "execution_count": 72,
   "metadata": {},
   "outputs": [],
   "source": [
    "cities = cities + [\"Multan\"]"
   ]
  },
  {
   "cell_type": "code",
   "execution_count": 73,
   "metadata": {},
   "outputs": [
    {
     "name": "stdout",
     "output_type": "stream",
     "text": [
      "['Karachi', 'Hyderabad', 'Larkana', 'Islamabad', 'Lahore', 'Kashmir', 'Faisalabad', 'Sukkur', 'Multan']\n"
     ]
    }
   ],
   "source": [
    "print(cities)"
   ]
  },
  {
   "cell_type": "markdown",
   "metadata": {},
   "source": [
    "# Tuples"
   ]
  },
  {
   "cell_type": "code",
   "execution_count": 47,
   "metadata": {},
   "outputs": [],
   "source": [
    "# Tuple is like a list, but the elements are fixed. They can't be changed—unless you redefine the whole tuple.\n",
    "# We use tuple when  we'll never need to delete one of them. So we create a tuple—a list that's written in stone.\n",
    "# You code a tuple as you would a list, with one exception \"[]\""
   ]
  },
  {
   "cell_type": "code",
   "execution_count": 48,
   "metadata": {},
   "outputs": [],
   "source": [
    "# Do you see the one way a tuple definition is different from a list definition?\n",
    "# You use parentheses instead of square brackets.\n",
    "# You pick a particular element out of a tuple the same way you pick an element out of a list. \n",
    "\n",
    "\n",
    "states_in_order_of_founding = (\"Punjab\", \"Sindh\", \"Balochistan\", \"KPK\")"
   ]
  },
  {
   "cell_type": "code",
   "execution_count": 49,
   "metadata": {},
   "outputs": [
    {
     "name": "stdout",
     "output_type": "stream",
     "text": [
      "second_state_founded_was = Sindh\n"
     ]
    }
   ],
   "source": [
    "states_in_order_of_founding = (\"Punjab\", \"Sindh\", \"Balochistan\", \"KPK\")\n",
    "print(\"second_state_founded_was = \" + states_in_order_of_founding[1]) "
   ]
  },
  {
   "cell_type": "code",
   "execution_count": 50,
   "metadata": {},
   "outputs": [
    {
     "name": "stdout",
     "output_type": "stream",
     "text": [
      "third_state_founded_was = Balochistan\n"
     ]
    }
   ],
   "source": [
    "print(\"third_state_founded_was = \" + states_in_order_of_founding[2])"
   ]
  },
  {
   "cell_type": "code",
   "execution_count": 51,
   "metadata": {},
   "outputs": [
    {
     "name": "stdout",
     "output_type": "stream",
     "text": [
      "fourth_state_founded_was = KPK\n"
     ]
    }
   ],
   "source": [
    "print(\"fourth_state_founded_was = \" + states_in_order_of_founding[3])"
   ]
  },
  {
   "cell_type": "code",
   "execution_count": 52,
   "metadata": {},
   "outputs": [
    {
     "name": "stdout",
     "output_type": "stream",
     "text": [
      "first_state_founded_was = Punjab\n"
     ]
    }
   ],
   "source": [
    "print(\"first_state_founded_was = \" + states_in_order_of_founding[0])"
   ]
  },
  {
   "cell_type": "markdown",
   "metadata": {},
   "source": [
    "# Meadian/ Mean/Mode With Histogram"
   ]
  },
  {
   "cell_type": "code",
   "execution_count": 53,
   "metadata": {},
   "outputs": [
    {
     "data": {
      "text/plain": [
       "<Figure size 640x480 with 1 Axes>"
      ]
     },
     "metadata": {},
     "output_type": "display_data"
    }
   ],
   "source": [
    "import numpy as np\n",
    "\n",
    "import matplotlib.pyplot as plt\n",
    "a=np.random.normal(100,20,10000)\n",
    "\n",
    "plt.hist(a,50)\n",
    "plt.show()"
   ]
  },
  {
   "cell_type": "code",
   "execution_count": 54,
   "metadata": {},
   "outputs": [
    {
     "data": {
      "text/plain": [
       "100.2613806597646"
      ]
     },
     "execution_count": 54,
     "metadata": {},
     "output_type": "execute_result"
    }
   ],
   "source": [
    "np.median(a)"
   ]
  },
  {
   "cell_type": "code",
   "execution_count": 55,
   "metadata": {},
   "outputs": [
    {
     "data": {
      "text/plain": [
       "100.2141910998776"
      ]
     },
     "execution_count": 55,
     "metadata": {},
     "output_type": "execute_result"
    }
   ],
   "source": [
    "np.mean(a)"
   ]
  },
  {
   "cell_type": "code",
   "execution_count": 56,
   "metadata": {},
   "outputs": [],
   "source": [
    "#we add some outlatting or value to check weather the result of mean and median is same or it's different."
   ]
  },
  {
   "cell_type": "code",
   "execution_count": 57,
   "metadata": {},
   "outputs": [],
   "source": [
    "a=np.append(a,[30000])"
   ]
  },
  {
   "cell_type": "code",
   "execution_count": 58,
   "metadata": {},
   "outputs": [
    {
     "data": {
      "text/plain": [
       "100.26298500183917"
      ]
     },
     "execution_count": 58,
     "metadata": {},
     "output_type": "execute_result"
    }
   ],
   "source": [
    "# now we check for median\n",
    "np.median(a) # here the median value is same as per the average."
   ]
  },
  {
   "cell_type": "code",
   "execution_count": 59,
   "metadata": {},
   "outputs": [
    {
     "data": {
      "text/plain": [
       "103.20387071280632"
      ]
     },
     "execution_count": 59,
     "metadata": {},
     "output_type": "execute_result"
    }
   ],
   "source": [
    "np.mean(a) # but the mean's value is changed than the first one."
   ]
  },
  {
   "cell_type": "code",
   "execution_count": 60,
   "metadata": {},
   "outputs": [],
   "source": [
    "# Now we will check for the mode."
   ]
  },
  {
   "cell_type": "code",
   "execution_count": 61,
   "metadata": {},
   "outputs": [],
   "source": [
    "b=np.random.randint(1,high = 30, size = 20)"
   ]
  },
  {
   "cell_type": "code",
   "execution_count": 62,
   "metadata": {},
   "outputs": [
    {
     "data": {
      "text/plain": [
       "array([26,  8, 22, 14,  7, 19, 16, 11,  5, 23, 21, 22,  6, 18, 28,  1, 29,\n",
       "       25, 20, 18])"
      ]
     },
     "execution_count": 62,
     "metadata": {},
     "output_type": "execute_result"
    }
   ],
   "source": [
    "b"
   ]
  },
  {
   "cell_type": "code",
   "execution_count": 63,
   "metadata": {},
   "outputs": [
    {
     "data": {
      "text/plain": [
       "ModeResult(mode=array([18]), count=array([2]))"
      ]
     },
     "execution_count": 63,
     "metadata": {},
     "output_type": "execute_result"
    }
   ],
   "source": [
    "from scipy import stats\n",
    "stats.mode(b)"
   ]
  },
  {
   "cell_type": "code",
   "execution_count": 18,
   "metadata": {},
   "outputs": [],
   "source": [
    "#lets see some other ways for finding the mean/ median/ mode."
   ]
  },
  {
   "cell_type": "markdown",
   "metadata": {},
   "source": [
    "# Mean"
   ]
  },
  {
   "cell_type": "code",
   "execution_count": 20,
   "metadata": {},
   "outputs": [],
   "source": [
    "def mean(list_of_nums):\n",
    "    total = 0\n",
    "    for num in list_of_nums:\n",
    "        total = total + num\n",
    "        return total / len(list_of_nums)"
   ]
  },
  {
   "cell_type": "code",
   "execution_count": 21,
   "metadata": {},
   "outputs": [
    {
     "name": "stdout",
     "output_type": "stream",
     "text": [
      "1.0833333333333333\n"
     ]
    }
   ],
   "source": [
    " print(mean([13,23,34,45,56,78,44,33,18,16,14,18]))"
   ]
  },
  {
   "cell_type": "code",
   "execution_count": 22,
   "metadata": {},
   "outputs": [
    {
     "name": "stdout",
     "output_type": "stream",
     "text": [
      "3.4\n"
     ]
    }
   ],
   "source": [
    "print(mean([34,11,45,67,76,98,101,903,34,12]))"
   ]
  },
  {
   "cell_type": "code",
   "execution_count": 23,
   "metadata": {},
   "outputs": [
    {
     "name": "stdout",
     "output_type": "stream",
     "text": [
      "2.2\n"
     ]
    }
   ],
   "source": [
    "print(mean([22,55,66,77,88,99,203,76,78,98]))"
   ]
  },
  {
   "cell_type": "code",
   "execution_count": 25,
   "metadata": {},
   "outputs": [
    {
     "name": "stdout",
     "output_type": "stream",
     "text": [
      "0.9166666666666666\n"
     ]
    }
   ],
   "source": [
    "print(mean([11,34,56,67,78,90,12,45,76,11,76,89]))"
   ]
  },
  {
   "cell_type": "markdown",
   "metadata": {},
   "source": [
    "# Mode"
   ]
  },
  {
   "cell_type": "code",
   "execution_count": 26,
   "metadata": {},
   "outputs": [],
   "source": [
    "def mode(list_of_nums):\n",
    "    max_count = (0,0)\n",
    "    for num in list_of_nums:\n",
    "        occurences = list_of_nums.count(num)\n",
    "        if occurences > max_count[0]:\n",
    "            max_count = (occurences, num)\n",
    "            return max_count[1]"
   ]
  },
  {
   "cell_type": "code",
   "execution_count": 27,
   "metadata": {},
   "outputs": [
    {
     "name": "stdout",
     "output_type": "stream",
     "text": [
      "22\n"
     ]
    }
   ],
   "source": [
    "print(mode([22,13,34,15,56,76,97,101,201]))"
   ]
  },
  {
   "cell_type": "code",
   "execution_count": 30,
   "metadata": {},
   "outputs": [
    {
     "name": "stdout",
     "output_type": "stream",
     "text": [
      "23\n"
     ]
    }
   ],
   "source": [
    "print(mode([23,43,4,56,67,12,99,9,101,78,67,120,22]))"
   ]
  },
  {
   "cell_type": "code",
   "execution_count": 31,
   "metadata": {},
   "outputs": [
    {
     "name": "stdout",
     "output_type": "stream",
     "text": [
      "100\n"
     ]
    }
   ],
   "source": [
    "print(mode([100,200,300,400,500,600,700,800,900,1000]))"
   ]
  },
  {
   "cell_type": "markdown",
   "metadata": {},
   "source": [
    "# Median"
   ]
  },
  {
   "cell_type": "code",
   "execution_count": 32,
   "metadata": {},
   "outputs": [],
   "source": [
    "def median(list_of_nums):\n",
    "    list_of_nums.sort()\n",
    "    if len(list_of_nums) % 2 != 0:\n",
    "        middle_index = int((len(list_of_nums) -1) /2)\n",
    "        return list_of_nums[middle_index]\n",
    "    elif len(list_of_nums) % 2 == 0:\n",
    "        middle_index_1 = int(len(list_of_nums) / 2)\n",
    "        middle_index_2 = int(len(list_of_nums) / 2) -1\n",
    "        return int(mean([list_of_nums[middle_index_1], list_of_nums[middle_index_2]]))"
   ]
  },
  {
   "cell_type": "code",
   "execution_count": 33,
   "metadata": {},
   "outputs": [
    {
     "name": "stdout",
     "output_type": "stream",
     "text": [
      "43\n"
     ]
    }
   ],
   "source": [
    "print(median([23,34,45,56,67,87,897,98,90,101]))"
   ]
  },
  {
   "cell_type": "code",
   "execution_count": 34,
   "metadata": {},
   "outputs": [
    {
     "name": "stdout",
     "output_type": "stream",
     "text": [
      "404\n"
     ]
    }
   ],
   "source": [
    "print(median([101,202,303,404,505,606,707,109,901]))"
   ]
  },
  {
   "cell_type": "code",
   "execution_count": 35,
   "metadata": {},
   "outputs": [
    {
     "name": "stdout",
     "output_type": "stream",
     "text": [
      "44\n"
     ]
    }
   ],
   "source": [
    "print(median([1,9,56,67,98,88,99,109,87,97,34,908]))"
   ]
  },
  {
   "cell_type": "code",
   "execution_count": 37,
   "metadata": {},
   "outputs": [
    {
     "name": "stdout",
     "output_type": "stream",
     "text": [
      "77\n"
     ]
    }
   ],
   "source": [
    "print(median([23,45,56,77,98,90,101,505,46,89,79,59,29]))"
   ]
  },
  {
   "cell_type": "markdown",
   "metadata": {},
   "source": [
    "# Variance"
   ]
  },
  {
   "cell_type": "code",
   "execution_count": 38,
   "metadata": {},
   "outputs": [],
   "source": [
    "# In the same way that the mean is used to describe the central tendency, variance is intended to describe the spread.\n",
    "# The xi – μ is called the “deviation from the mean”, making the variance the squared deviation multiplied by 1 over the number of samples.\n",
    "# This is why the square root of the variance, σ, is called the standard deviation.\n",
    "# Using the mean function we created above, we’ll write up a function that calculates the variance"
   ]
  },
  {
   "cell_type": "code",
   "execution_count": 39,
   "metadata": {},
   "outputs": [],
   "source": [
    "# We can also use the numpy built in function from Numpy Instead."
   ]
  },
  {
   "cell_type": "code",
   "execution_count": 40,
   "metadata": {},
   "outputs": [],
   "source": [
    "def var(t, mu):\n",
    "    dev2 = [(x - mu)**2 for x in t]\n",
    "    var = mean(dev2)\n",
    "    return(var)"
   ]
  },
  {
   "cell_type": "code",
   "execution_count": 41,
   "metadata": {},
   "outputs": [
    {
     "name": "stdout",
     "output_type": "stream",
     "text": [
      "6.4\n"
     ]
    }
   ],
   "source": [
    "print(np.var([1,3,3,6,3,2,7,5,9,1]))"
   ]
  },
  {
   "cell_type": "code",
   "execution_count": 43,
   "metadata": {},
   "outputs": [
    {
     "name": "stdout",
     "output_type": "stream",
     "text": [
      "73.1404958677686\n"
     ]
    }
   ],
   "source": [
    "print(np.var([2,33,4,2,1,2,5,8,7,9,8]))"
   ]
  },
  {
   "cell_type": "code",
   "execution_count": 44,
   "metadata": {},
   "outputs": [
    {
     "name": "stdout",
     "output_type": "stream",
     "text": [
      "5.359999999999999\n"
     ]
    }
   ],
   "source": [
    "print(np.var([1,6,3,6,3,2,7,2,7,1]))"
   ]
  },
  {
   "cell_type": "code",
   "execution_count": 48,
   "metadata": {},
   "outputs": [
    {
     "name": "stdout",
     "output_type": "stream",
     "text": [
      "4.5600000000000005\n"
     ]
    }
   ],
   "source": [
    "print(np.var([3,4,3,7,3,2,8,5,2,1]))"
   ]
  },
  {
   "cell_type": "markdown",
   "metadata": {},
   "source": [
    "# Quantiles"
   ]
  },
  {
   "cell_type": "code",
   "execution_count": 12,
   "metadata": {},
   "outputs": [],
   "source": [
    "# To find the quantile we can use the numpy.quantile function."
   ]
  },
  {
   "cell_type": "code",
   "execution_count": 23,
   "metadata": {},
   "outputs": [
    {
     "name": "stdout",
     "output_type": "stream",
     "text": [
      "arr :  [20, 2, 7, 1, 34]\n",
      "Q2 quantile of arr :  7.0\n"
     ]
    }
   ],
   "source": [
    "# Python Program illustrating  \n",
    "# numpy.quantile() method  \n",
    "import numpy as np \n",
    "  \n",
    "  \n",
    "# 1D array  \n",
    "arr = [20, 2, 7, 1, 34] \n",
    "  \n",
    "print(\"arr : \", arr)  \n",
    "print(\"Q2 quantile of arr : \", np.quantile(arr, .50))"
   ]
  },
  {
   "cell_type": "code",
   "execution_count": 24,
   "metadata": {},
   "outputs": [
    {
     "name": "stdout",
     "output_type": "stream",
     "text": [
      "Q1 quantile of arr :  2.0\n"
     ]
    }
   ],
   "source": [
    "print(\"Q1 quantile of arr : \", np.quantile(arr, .25))"
   ]
  },
  {
   "cell_type": "code",
   "execution_count": 25,
   "metadata": {},
   "outputs": [
    {
     "name": "stdout",
     "output_type": "stream",
     "text": [
      "Q3 quantile of arr :  20.0\n"
     ]
    }
   ],
   "source": [
    "print(\"Q3 quantile of arr : \", np.quantile(arr, .75))"
   ]
  },
  {
   "cell_type": "markdown",
   "metadata": {},
   "source": [
    "# Percentile"
   ]
  },
  {
   "cell_type": "code",
   "execution_count": 1,
   "metadata": {},
   "outputs": [],
   "source": [
    "# To find the percentile we have the numpy percentile function lets see below."
   ]
  },
  {
   "cell_type": "code",
   "execution_count": 3,
   "metadata": {},
   "outputs": [
    {
     "name": "stdout",
     "output_type": "stream",
     "text": [
      "arr :  [20, 2, 7, 1, 34]\n",
      "50th percentile of arr :  7.0\n",
      "25th percentile of arr :  2.0\n",
      "75th percentile of arr :  20.0\n"
     ]
    }
   ],
   "source": [
    " # numpy.percentile() method  \n",
    "    \n",
    "import numpy as np \n",
    "    \n",
    "# 1D array  \n",
    "arr = [20, 2, 7, 1, 34] \n",
    "print(\"arr : \", arr)  \n",
    "print(\"50th percentile of arr : \",  \n",
    "       np.percentile(arr, 50))\n",
    "print(\"25th percentile of arr : \", \n",
    "       np.percentile(arr, 25)) \n",
    "print(\"75th percentile of arr : \", \n",
    "       np.percentile(arr, 75))"
   ]
  },
  {
   "cell_type": "code",
   "execution_count": 4,
   "metadata": {},
   "outputs": [
    {
     "name": "stdout",
     "output_type": "stream",
     "text": [
      "10th percentile of arr :  1.4\n"
     ]
    }
   ],
   "source": [
    "print(\"10th percentile of arr : \",\n",
    "      np.percentile(arr,10))"
   ]
  },
  {
   "cell_type": "code",
   "execution_count": 6,
   "metadata": {},
   "outputs": [
    {
     "name": "stdout",
     "output_type": "stream",
     "text": [
      "30th percentile of arr :  3.0\n"
     ]
    }
   ],
   "source": [
    "print(\"30th percentile of arr : \",\n",
    "      np.percentile(arr,30))"
   ]
  },
  {
   "cell_type": "code",
   "execution_count": 7,
   "metadata": {},
   "outputs": [
    {
     "name": "stdout",
     "output_type": "stream",
     "text": [
      "60th percentile of arr :  12.2\n"
     ]
    }
   ],
   "source": [
    "print(\"60th percentile of arr : \",\n",
    "      np.percentile(arr,60))"
   ]
  },
  {
   "cell_type": "code",
   "execution_count": 8,
   "metadata": {},
   "outputs": [
    {
     "name": "stdout",
     "output_type": "stream",
     "text": [
      "70th percentile of arr :  12.2\n"
     ]
    }
   ],
   "source": [
    "print(\"70th percentile of arr : \",\n",
    "      np.percentile(arr,60))"
   ]
  },
  {
   "cell_type": "code",
   "execution_count": 10,
   "metadata": {},
   "outputs": [
    {
     "name": "stdout",
     "output_type": "stream",
     "text": [
      "80th percentile of arr :  22.800000000000004\n",
      "90th percentile of arr :  28.4\n",
      "99th percentile of arr :  33.44\n"
     ]
    }
   ],
   "source": [
    "print(\"80th percentile of arr : \",\n",
    "      np.percentile(arr,80))\n",
    "print(\"90th percentile of arr : \",\n",
    "      np.percentile(arr,90))\n",
    "print(\"99th percentile of arr : \",\n",
    "      np.percentile(arr,99))"
   ]
  },
  {
   "cell_type": "code",
   "execution_count": 1,
   "metadata": {},
   "outputs": [
    {
     "name": "stdout",
     "output_type": "stream",
     "text": [
      "Donut_price is resonable\n"
     ]
    }
   ],
   "source": [
    "buy_score = 0\n",
    "buy_score += 10\n",
    "buy_score += 5\n",
    "if buy_score == 0:\n",
    "    print (\"Donut Condition is Fresh\")\n",
    "elif buy_score > 0 < 10:\n",
    "    print (\"Donut_price is resonable\")\n",
    "else:\n",
    "    print(\"donut filling chocolate\")"
   ]
  },
  {
   "cell_type": "code",
   "execution_count": 2,
   "metadata": {},
   "outputs": [
    {
     "name": "stdout",
     "output_type": "stream",
     "text": [
      "15\n"
     ]
    }
   ],
   "source": [
    "print(buy_score)"
   ]
  },
  {
   "cell_type": "code",
   "execution_count": 4,
   "metadata": {},
   "outputs": [
    {
     "ename": "IndentationError",
     "evalue": "expected an indented block (<ipython-input-4-186c708e7ccc>, line 3)",
     "output_type": "error",
     "traceback": [
      "\u001b[1;36m  File \u001b[1;32m\"<ipython-input-4-186c708e7ccc>\"\u001b[1;36m, line \u001b[1;32m3\u001b[0m\n\u001b[1;33m    buy_score += 10\u001b[0m\n\u001b[1;37m            ^\u001b[0m\n\u001b[1;31mIndentationError\u001b[0m\u001b[1;31m:\u001b[0m expected an indented block\n"
     ]
    }
   ],
   "source": [
    "buy_score = 0\n",
    "if donut_condition == \"fresh\":\n",
    "buy_score += 10\n",
    "if donut_filling == \"chocolate\":\n",
    "buy_score += 5\n",
    "if donut_price == \"reasonable\":\n",
    "buy_score += 7"
   ]
  },
  {
   "cell_type": "markdown",
   "metadata": {},
   "source": [
    "# If Statements Nested"
   ]
  },
  {
   "cell_type": "code",
   "execution_count": 15,
   "metadata": {},
   "outputs": [
    {
     "ename": "NameError",
     "evalue": "name 'y' is not defined",
     "output_type": "error",
     "traceback": [
      "\u001b[1;31m---------------------------------------------------------------------------\u001b[0m",
      "\u001b[1;31mNameError\u001b[0m                                 Traceback (most recent call last)",
      "\u001b[1;32m<ipython-input-15-44404c1b0c42>\u001b[0m in \u001b[0;36m<module>\u001b[1;34m\u001b[0m\n\u001b[1;32m----> 1\u001b[1;33m \u001b[0mx\u001b[0m \u001b[1;33m=\u001b[0m \u001b[0my\u001b[0m\u001b[1;33m\u001b[0m\u001b[1;33m\u001b[0m\u001b[0m\n\u001b[0m\u001b[0;32m      2\u001b[0m \u001b[0mc\u001b[0m \u001b[1;33m=\u001b[0m \u001b[0md\u001b[0m\u001b[1;33m\u001b[0m\u001b[1;33m\u001b[0m\u001b[0m\n\u001b[0;32m      3\u001b[0m \u001b[1;32mif\u001b[0m \u001b[1;33m(\u001b[0m\u001b[0mx\u001b[0m \u001b[1;33m==\u001b[0m \u001b[0my\u001b[0m \u001b[1;32mor\u001b[0m \u001b[0ma\u001b[0m \u001b[1;33m==\u001b[0m \u001b[0mb\u001b[0m\u001b[1;33m)\u001b[0m \u001b[1;32mand\u001b[0m \u001b[0mc\u001b[0m \u001b[1;33m==\u001b[0m \u001b[0md\u001b[0m\u001b[1;33m:\u001b[0m\u001b[1;33m\u001b[0m\u001b[1;33m\u001b[0m\u001b[0m\n\u001b[0;32m      4\u001b[0m     \u001b[0mg\u001b[0m \u001b[1;33m=\u001b[0m \u001b[0mh\u001b[0m\u001b[1;33m\u001b[0m\u001b[1;33m\u001b[0m\u001b[0m\n\u001b[0;32m      5\u001b[0m \u001b[1;32melse\u001b[0m\u001b[1;33m:\u001b[0m\u001b[1;33m\u001b[0m\u001b[1;33m\u001b[0m\u001b[0m\n",
      "\u001b[1;31mNameError\u001b[0m: name 'y' is not defined"
     ]
    }
   ],
   "source": [
    "x = y\n",
    "c = d\n",
    "if (x == y or a == b) and c == d:\n",
    "    g = h\n",
    "else:\n",
    "    e = f"
   ]
  },
  {
   "cell_type": "code",
   "execution_count": 18,
   "metadata": {},
   "outputs": [
    {
     "ename": "IndentationError",
     "evalue": "expected an indented block (<ipython-input-18-6551125ca979>, line 5)",
     "output_type": "error",
     "traceback": [
      "\u001b[1;36m  File \u001b[1;32m\"<ipython-input-18-6551125ca979>\"\u001b[1;36m, line \u001b[1;32m5\u001b[0m\n\u001b[1;33m    if c == d:\u001b[0m\n\u001b[1;37m     ^\u001b[0m\n\u001b[1;31mIndentationError\u001b[0m\u001b[1;31m:\u001b[0m expected an indented block\n"
     ]
    }
   ],
   "source": [
    "x = y\n",
    "c = d\n",
    "a = b\n",
    "if x == y:\n",
    "if c == d:\n",
    "    g = h\n",
    "elif a == b:\n",
    "    g = h\n",
    "else:\n",
    "    e = f\n",
    "    else:\n",
    "        e = f"
   ]
  },
  {
   "cell_type": "code",
   "execution_count": 1,
   "metadata": {
    "scrolled": false
   },
   "outputs": [],
   "source": [
    "cities = [\"Lahore\" , \"Faisalabad\" , \"Karachi\" , \"Hyderabad\" , \"Larkana\" , \"Dadu\"]"
   ]
  },
  {
   "cell_type": "code",
   "execution_count": 7,
   "metadata": {},
   "outputs": [
    {
     "name": "stdout",
     "output_type": "stream",
     "text": [
      "Welcome to Faisalabad\n"
     ]
    }
   ],
   "source": [
    "print(\"Welcome to \" +cities[1])"
   ]
  },
  {
   "cell_type": "code",
   "execution_count": 8,
   "metadata": {},
   "outputs": [
    {
     "name": "stdout",
     "output_type": "stream",
     "text": [
      "Welcome to Karachi\n"
     ]
    }
   ],
   "source": [
    "print(\"Welcome to \" +cities[-4])"
   ]
  },
  {
   "cell_type": "code",
   "execution_count": 10,
   "metadata": {},
   "outputs": [],
   "source": [
    "smaller_list_of_cities = cities[2:5]"
   ]
  },
  {
   "cell_type": "code",
   "execution_count": 11,
   "metadata": {},
   "outputs": [
    {
     "name": "stdout",
     "output_type": "stream",
     "text": [
      "['Karachi', 'Hyderabad', 'Larkana']\n"
     ]
    }
   ],
   "source": [
    "print(smaller_list_of_cities)"
   ]
  },
  {
   "cell_type": "code",
   "execution_count": 12,
   "metadata": {},
   "outputs": [],
   "source": [
    "smaller_list_of_cities = cities[4:5]"
   ]
  },
  {
   "cell_type": "code",
   "execution_count": 13,
   "metadata": {},
   "outputs": [
    {
     "name": "stdout",
     "output_type": "stream",
     "text": [
      "['Larkana']\n"
     ]
    }
   ],
   "source": [
    "print(smaller_list_of_cities)"
   ]
  },
  {
   "cell_type": "code",
   "execution_count": 15,
   "metadata": {},
   "outputs": [],
   "source": [
    "smaller_list_of_cities = cities [1:5]"
   ]
  },
  {
   "cell_type": "code",
   "execution_count": 16,
   "metadata": {},
   "outputs": [
    {
     "name": "stdout",
     "output_type": "stream",
     "text": [
      "['Faisalabad', 'Karachi', 'Hyderabad', 'Larkana']\n"
     ]
    }
   ],
   "source": [
    "print(smaller_list_of_cities)"
   ]
  },
  {
   "cell_type": "code",
   "execution_count": 17,
   "metadata": {},
   "outputs": [],
   "source": [
    "smaller_list_of_cities = cities [-2:5]"
   ]
  },
  {
   "cell_type": "code",
   "execution_count": 18,
   "metadata": {},
   "outputs": [
    {
     "name": "stdout",
     "output_type": "stream",
     "text": [
      "['Larkana']\n"
     ]
    }
   ],
   "source": [
    "print(smaller_list_of_cities)"
   ]
  },
  {
   "cell_type": "code",
   "execution_count": 1,
   "metadata": {},
   "outputs": [],
   "source": [
    "# Write a program to take user input hours and rate and calculate the rate per hours proding the exact pay"
   ]
  },
  {
   "cell_type": "code",
   "execution_count": 2,
   "metadata": {},
   "outputs": [
    {
     "name": "stdout",
     "output_type": "stream",
     "text": [
      "Enter Hours34\n",
      "Enter Rate23.34\n",
      "793.56\n"
     ]
    }
   ],
   "source": [
    "hours = int (input(\"Enter Hours\"))\n",
    "rate = float (input(\"Enter Rate\"))\n",
    "\n",
    "pay = hours * rate\n",
    "\n",
    "print (pay)"
   ]
  },
  {
   "cell_type": "code",
   "execution_count": 4,
   "metadata": {},
   "outputs": [
    {
     "name": "stdout",
     "output_type": "stream",
     "text": [
      "Enter hrs: 34\n",
      "Enter rate: 122.55\n",
      "4166.7\n"
     ]
    }
   ],
   "source": [
    "hrs = int (input(\"Enter hrs: \"))\n",
    "rate = float (input(\"Enter rate: \"))\n",
    "\n",
    "pay = hrs * rate\n",
    "\n",
    "print (pay)"
   ]
  },
  {
   "cell_type": "code",
   "execution_count": 5,
   "metadata": {},
   "outputs": [
    {
     "name": "stdout",
     "output_type": "stream",
     "text": [
      "Enter Your NameAli Akbar\n",
      "Welcome Ali Akbar\n"
     ]
    }
   ],
   "source": [
    "name = input(\"Enter Your Name\")\n",
    "print(\"Welcome\", name)"
   ]
  },
  {
   "cell_type": "code",
   "execution_count": 10,
   "metadata": {},
   "outputs": [
    {
     "name": "stdout",
     "output_type": "stream",
     "text": [
      "Enter City Name: Karachi\n",
      "Welcome to  Karachi\n"
     ]
    }
   ],
   "source": [
    "1..city_name = input(\"Enter City Name: \")\n",
    "print(\"Welcome to \", city_name)"
   ]
  },
  {
   "cell_type": "code",
   "execution_count": 12,
   "metadata": {},
   "outputs": [
    {
     "name": "stdout",
     "output_type": "stream",
     "text": [
      "x is equal to five\n"
     ]
    }
   ],
   "source": [
    "x = 5\n",
    "if x == 5:\n",
    "    print(\"x is equal to five\")"
   ]
  },
  {
   "cell_type": "code",
   "execution_count": 18,
   "metadata": {},
   "outputs": [
    {
     "name": "stdout",
     "output_type": "stream",
     "text": [
      "Lawa is a Gandu\n"
     ]
    }
   ],
   "source": [
    "if x >= 100:\n",
    "    print(\"Mama miya\")\n",
    "else:\n",
    "    print(\"Lawa is a Gandu\")"
   ]
  },
  {
   "cell_type": "code",
   "execution_count": 21,
   "metadata": {},
   "outputs": [
    {
     "name": "stdout",
     "output_type": "stream",
     "text": [
      "X is perfect\n",
      "X is Exact\n",
      "All Done\n"
     ]
    }
   ],
   "source": [
    "x = 123\n",
    "if x <= 123:\n",
    "    print(\"X is perfect\")\n",
    "    \n",
    "    if x == 123:\n",
    "        print(\"X is Exact\")\n",
    "    print(\"All Done\")"
   ]
  },
  {
   "cell_type": "code",
   "execution_count": 25,
   "metadata": {},
   "outputs": [
    {
     "name": "stdout",
     "output_type": "stream",
     "text": [
      "X is White\n"
     ]
    }
   ],
   "source": [
    "x = 333\n",
    "if x <=300:\n",
    "    print(\"X is black\")\n",
    "elif x <= 390:\n",
    "    print(\"X is White\")\n",
    "elif x < 334:\n",
    "    print (\"X is Gorgeous\")\n",
    "elif x < 400:\n",
    "    print (\"X is Beautiful\")\n",
    "else:\n",
    "    print(\"Drive Carefully\")"
   ]
  },
  {
   "cell_type": "code",
   "execution_count": 26,
   "metadata": {},
   "outputs": [
    {
     "data": {
      "text/plain": [
       "str"
      ]
     },
     "execution_count": 26,
     "metadata": {},
     "output_type": "execute_result"
    }
   ],
   "source": [
    "a = (\"123\")\n",
    "type(a)"
   ]
  },
  {
   "cell_type": "code",
   "execution_count": 27,
   "metadata": {},
   "outputs": [
    {
     "data": {
      "text/plain": [
       "int"
      ]
     },
     "execution_count": 27,
     "metadata": {},
     "output_type": "execute_result"
    }
   ],
   "source": [
    "a = 23\n",
    "type(a)"
   ]
  },
  {
   "cell_type": "code",
   "execution_count": 28,
   "metadata": {},
   "outputs": [
    {
     "data": {
      "text/plain": [
       "float"
      ]
     },
     "execution_count": 28,
     "metadata": {},
     "output_type": "execute_result"
    }
   ],
   "source": [
    "a = 3.34\n",
    "type(a)"
   ]
  },
  {
   "cell_type": "code",
   "execution_count": 33,
   "metadata": {},
   "outputs": [
    {
     "data": {
      "text/plain": [
       "int"
      ]
     },
     "execution_count": 33,
     "metadata": {},
     "output_type": "execute_result"
    }
   ],
   "source": [
    "a = -1\n",
    "type(a)"
   ]
  },
  {
   "cell_type": "code",
   "execution_count": 1,
   "metadata": {},
   "outputs": [],
   "source": [
    "cars = [\"Farrari\", \"Civic\", \"Hundayi_City\", \"Corolla_XLI\", \"Corolla_GLI\"]"
   ]
  },
  {
   "cell_type": "code",
   "execution_count": 6,
   "metadata": {},
   "outputs": [
    {
     "name": "stdout",
     "output_type": "stream",
     "text": [
      "Welcome to: Civic\n"
     ]
    }
   ],
   "source": [
    "print (\"Welcome to: \" +cars[1])"
   ]
  },
  {
   "cell_type": "code",
   "execution_count": 8,
   "metadata": {},
   "outputs": [],
   "source": [
    "del cars[1]"
   ]
  },
  {
   "cell_type": "code",
   "execution_count": 9,
   "metadata": {},
   "outputs": [
    {
     "name": "stdout",
     "output_type": "stream",
     "text": [
      "['Farrari', 'Hundayi_City', 'Corolla_XLI', 'Corolla_GLI']\n"
     ]
    }
   ],
   "source": [
    "print (cars)"
   ]
  },
  {
   "cell_type": "code",
   "execution_count": 10,
   "metadata": {},
   "outputs": [],
   "source": [
    "del cars[-2]"
   ]
  },
  {
   "cell_type": "code",
   "execution_count": 11,
   "metadata": {},
   "outputs": [
    {
     "name": "stdout",
     "output_type": "stream",
     "text": [
      "['Farrari', 'Hundayi_City', 'Corolla_GLI']\n"
     ]
    }
   ],
   "source": [
    "print(cars)"
   ]
  },
  {
   "cell_type": "code",
   "execution_count": 14,
   "metadata": {},
   "outputs": [],
   "source": [
    "latest_cars_accomplished = cars.pop(1)"
   ]
  },
  {
   "cell_type": "code",
   "execution_count": 15,
   "metadata": {},
   "outputs": [
    {
     "name": "stdout",
     "output_type": "stream",
     "text": [
      "Hundayi_City\n"
     ]
    }
   ],
   "source": [
    "print(latest_cars_accomplished)"
   ]
  },
  {
   "cell_type": "code",
   "execution_count": 5,
   "metadata": {},
   "outputs": [
    {
     "name": "stdout",
     "output_type": "stream",
     "text": [
      "Enter Hours: 45\n",
      "Enter Rate: 10.50\n",
      "45.0 10.5\n"
     ]
    },
    {
     "ename": "NameError",
     "evalue": "name 'otp' is not defined",
     "output_type": "error",
     "traceback": [
      "\u001b[1;31m---------------------------------------------------------------------------\u001b[0m",
      "\u001b[1;31mNameError\u001b[0m                                 Traceback (most recent call last)",
      "\u001b[1;32m<ipython-input-5-3ad5c0daa52c>\u001b[0m in \u001b[0;36m<module>\u001b[1;34m\u001b[0m\n\u001b[0;32m     15\u001b[0m     \u001b[0mreg\u001b[0m \u001b[1;33m=\u001b[0m \u001b[0mfr\u001b[0m \u001b[1;33m*\u001b[0m \u001b[0mfh\u001b[0m\u001b[1;33m\u001b[0m\u001b[1;33m\u001b[0m\u001b[0m\n\u001b[0;32m     16\u001b[0m     \u001b[0mopt\u001b[0m \u001b[1;33m=\u001b[0m \u001b[1;33m(\u001b[0m\u001b[0mfh\u001b[0m \u001b[1;33m-\u001b[0m \u001b[1;36m40.0\u001b[0m\u001b[1;33m)\u001b[0m \u001b[1;33m*\u001b[0m \u001b[1;33m(\u001b[0m\u001b[0mfr\u001b[0m \u001b[1;33m*\u001b[0m \u001b[1;36m1.5\u001b[0m\u001b[1;33m)\u001b[0m\u001b[1;33m\u001b[0m\u001b[1;33m\u001b[0m\u001b[0m\n\u001b[1;32m---> 17\u001b[1;33m     \u001b[0mxp\u001b[0m \u001b[1;33m=\u001b[0m \u001b[0mreg\u001b[0m \u001b[1;33m+\u001b[0m \u001b[0motp\u001b[0m\u001b[1;33m\u001b[0m\u001b[1;33m\u001b[0m\u001b[0m\n\u001b[0m\u001b[0;32m     18\u001b[0m \u001b[1;33m\u001b[0m\u001b[0m\n\u001b[0;32m     19\u001b[0m \u001b[1;32melse\u001b[0m\u001b[1;33m:\u001b[0m\u001b[1;33m\u001b[0m\u001b[1;33m\u001b[0m\u001b[0m\n",
      "\u001b[1;31mNameError\u001b[0m: name 'otp' is not defined"
     ]
    }
   ],
   "source": [
    "sh = input(\"Enter Hours: \")\n",
    "sr = input(\"Enter Rate: \")\n",
    "\n",
    "try:\n",
    "\n",
    "    fh = float(sh)\n",
    "    fr = float(sr)\n",
    "    \n",
    "except:\n",
    "    print(\"Error, please enter numeric input\")\n",
    "    quit()\n",
    "    \n",
    "print(fh, fr)\n",
    "if fh > 40:\n",
    "    reg = fr * fh\n",
    "    opt = (fh - 40.0) * (fr * 1.5)\n",
    "    xp = reg + otp\n",
    "    \n",
    "else:\n",
    "    xp = fh * fr\n",
    "print(\"Pay:\",xp)"
   ]
  },
  {
   "cell_type": "code",
   "execution_count": 3,
   "metadata": {},
   "outputs": [
    {
     "name": "stdout",
     "output_type": "stream",
     "text": [
      "please enter a score: 0.9\n",
      "A\n"
     ]
    }
   ],
   "source": [
    "try:\n",
    "    inp = input(\"please enter a score: \")\n",
    "    score = float (inp)\n",
    "    \n",
    "except:\n",
    "    \n",
    "    print(\"Please enter score number between 0.0 and 1.0\")\n",
    "    \n",
    "    quit()\n",
    "    \n",
    "    \n",
    "if 0.0 <= score < 0.6:\n",
    "    print(\"F\")\n",
    "elif 1.0 >= score >= 0.9:\n",
    "    print(\"A\")\n",
    "elif 0.9 > score >= 0.8:\n",
    "    print(\"B\")\n",
    "elif 0.8 > score >= 0.7:\n",
    "    print(\"C\")\n",
    "elif 0.7 > score >= 0.6:\n",
    "    print(\"D\")\n",
    "    \n",
    "else:\n",
    "    print(\"Your score number is not in the 0 - 1 range.\")"
   ]
  },
  {
   "cell_type": "code",
   "execution_count": 4,
   "metadata": {},
   "outputs": [],
   "source": [
    "def thing():\n",
    "    print(\"Hello\")\n",
    "    print(\"Fun\")"
   ]
  },
  {
   "cell_type": "code",
   "execution_count": 5,
   "metadata": {},
   "outputs": [
    {
     "name": "stdout",
     "output_type": "stream",
     "text": [
      "Hello\n",
      "Fun\n"
     ]
    }
   ],
   "source": [
    "thing()"
   ]
  },
  {
   "cell_type": "code",
   "execution_count": 6,
   "metadata": {},
   "outputs": [
    {
     "name": "stdout",
     "output_type": "stream",
     "text": [
      "zip\n"
     ]
    }
   ],
   "source": [
    "print(\"zip\")"
   ]
  },
  {
   "cell_type": "code",
   "execution_count": 8,
   "metadata": {},
   "outputs": [
    {
     "name": "stdout",
     "output_type": "stream",
     "text": [
      "Hello\n",
      "Fun\n"
     ]
    }
   ],
   "source": [
    "thing()"
   ]
  },
  {
   "cell_type": "code",
   "execution_count": 13,
   "metadata": {},
   "outputs": [
    {
     "name": "stdout",
     "output_type": "stream",
     "text": [
      "Ali Akbar\n",
      "Jamali\n",
      "zip\n",
      "Ali Akbar\n",
      "Jamali\n"
     ]
    }
   ],
   "source": [
    "def Biodata():\n",
    "    print(\"Ali Akbar\")\n",
    "    print(\"Jamali\")\n",
    "    \n",
    "Biodata()\n",
    "print(\"zip\")\n",
    "Biodata()\n"
   ]
  },
  {
   "cell_type": "code",
   "execution_count": 15,
   "metadata": {},
   "outputs": [],
   "source": [
    "long = max(\"Khan of khans is king khan\")"
   ]
  },
  {
   "cell_type": "code",
   "execution_count": 16,
   "metadata": {},
   "outputs": [
    {
     "name": "stdout",
     "output_type": "stream",
     "text": [
      "s\n"
     ]
    }
   ],
   "source": [
    "print (long)"
   ]
  },
  {
   "cell_type": "code",
   "execution_count": 17,
   "metadata": {},
   "outputs": [],
   "source": [
    "long = min(\"Khan of khans is king khan\")"
   ]
  },
  {
   "cell_type": "code",
   "execution_count": 18,
   "metadata": {},
   "outputs": [
    {
     "name": "stdout",
     "output_type": "stream",
     "text": [
      " \n"
     ]
    }
   ],
   "source": [
    "print(long)"
   ]
  },
  {
   "cell_type": "code",
   "execution_count": 25,
   "metadata": {},
   "outputs": [],
   "source": [
    "x = 45"
   ]
  },
  {
   "cell_type": "code",
   "execution_count": 22,
   "metadata": {},
   "outputs": [
    {
     "data": {
      "text/plain": [
       "0.99"
      ]
     },
     "execution_count": 22,
     "metadata": {},
     "output_type": "execute_result"
    }
   ],
   "source": [
    "float (99) / 100"
   ]
  },
  {
   "cell_type": "code",
   "execution_count": 26,
   "metadata": {},
   "outputs": [
    {
     "data": {
      "text/plain": [
       "int"
      ]
     },
     "execution_count": 26,
     "metadata": {},
     "output_type": "execute_result"
    }
   ],
   "source": [
    "type (x)"
   ]
  },
  {
   "cell_type": "code",
   "execution_count": 27,
   "metadata": {},
   "outputs": [],
   "source": [
    "i = 1"
   ]
  },
  {
   "cell_type": "code",
   "execution_count": 28,
   "metadata": {},
   "outputs": [
    {
     "data": {
      "text/plain": [
       "int"
      ]
     },
     "execution_count": 28,
     "metadata": {},
     "output_type": "execute_result"
    }
   ],
   "source": [
    "type (i)"
   ]
  },
  {
   "cell_type": "code",
   "execution_count": 29,
   "metadata": {},
   "outputs": [],
   "source": [
    "f = float (i)"
   ]
  },
  {
   "cell_type": "code",
   "execution_count": 30,
   "metadata": {},
   "outputs": [
    {
     "data": {
      "text/plain": [
       "float"
      ]
     },
     "execution_count": 30,
     "metadata": {},
     "output_type": "execute_result"
    }
   ],
   "source": [
    "type(f)"
   ]
  },
  {
   "cell_type": "code",
   "execution_count": 31,
   "metadata": {},
   "outputs": [
    {
     "name": "stdout",
     "output_type": "stream",
     "text": [
      "1\n"
     ]
    }
   ],
   "source": [
    "print (i)"
   ]
  },
  {
   "cell_type": "code",
   "execution_count": 32,
   "metadata": {},
   "outputs": [
    {
     "name": "stdout",
     "output_type": "stream",
     "text": [
      "1.0\n"
     ]
    }
   ],
   "source": [
    "print(f)"
   ]
  },
  {
   "cell_type": "code",
   "execution_count": 33,
   "metadata": {},
   "outputs": [],
   "source": [
    "x = 4545"
   ]
  },
  {
   "cell_type": "code",
   "execution_count": 34,
   "metadata": {},
   "outputs": [],
   "source": [
    "d = float (x)"
   ]
  },
  {
   "cell_type": "code",
   "execution_count": 35,
   "metadata": {},
   "outputs": [
    {
     "data": {
      "text/plain": [
       "float"
      ]
     },
     "execution_count": 35,
     "metadata": {},
     "output_type": "execute_result"
    }
   ],
   "source": [
    "type (d)"
   ]
  },
  {
   "cell_type": "code",
   "execution_count": 36,
   "metadata": {},
   "outputs": [
    {
     "name": "stdout",
     "output_type": "stream",
     "text": [
      "4545.0\n"
     ]
    }
   ],
   "source": [
    "print (d)"
   ]
  },
  {
   "cell_type": "code",
   "execution_count": 37,
   "metadata": {},
   "outputs": [
    {
     "data": {
      "text/plain": [
       "83.03703703703704"
      ]
     },
     "execution_count": 37,
     "metadata": {},
     "output_type": "execute_result"
    }
   ],
   "source": [
    "34 + 56 * float (55) / 54 - 8"
   ]
  },
  {
   "cell_type": "code",
   "execution_count": 38,
   "metadata": {},
   "outputs": [
    {
     "data": {
      "text/plain": [
       "16.513761467889907"
      ]
     },
     "execution_count": 38,
     "metadata": {},
     "output_type": "execute_result"
    }
   ],
   "source": [
    "45 - 45 * 345 / 545"
   ]
  },
  {
   "cell_type": "code",
   "execution_count": 39,
   "metadata": {},
   "outputs": [
    {
     "data": {
      "text/plain": [
       "-19125.615"
      ]
     },
     "execution_count": 39,
     "metadata": {},
     "output_type": "execute_result"
    }
   ],
   "source": [
    "45 - float(55.567) * (345) "
   ]
  },
  {
   "cell_type": "code",
   "execution_count": 40,
   "metadata": {},
   "outputs": [],
   "source": [
    "sky = \"44545\""
   ]
  },
  {
   "cell_type": "code",
   "execution_count": 41,
   "metadata": {},
   "outputs": [
    {
     "data": {
      "text/plain": [
       "str"
      ]
     },
     "execution_count": 41,
     "metadata": {},
     "output_type": "execute_result"
    }
   ],
   "source": [
    "type (sky)"
   ]
  },
  {
   "cell_type": "code",
   "execution_count": 42,
   "metadata": {},
   "outputs": [],
   "source": [
    "sky = int(sky)"
   ]
  },
  {
   "cell_type": "code",
   "execution_count": 43,
   "metadata": {},
   "outputs": [
    {
     "data": {
      "text/plain": [
       "int"
      ]
     },
     "execution_count": 43,
     "metadata": {},
     "output_type": "execute_result"
    }
   ],
   "source": [
    "type (sky)"
   ]
  },
  {
   "cell_type": "code",
   "execution_count": 45,
   "metadata": {},
   "outputs": [],
   "source": [
    "pakory = \"465\" "
   ]
  },
  {
   "cell_type": "code",
   "execution_count": 46,
   "metadata": {},
   "outputs": [],
   "source": [
    "pakory = int (pakory)"
   ]
  },
  {
   "cell_type": "code",
   "execution_count": 47,
   "metadata": {},
   "outputs": [
    {
     "data": {
      "text/plain": [
       "477"
      ]
     },
     "execution_count": 47,
     "metadata": {},
     "output_type": "execute_result"
    }
   ],
   "source": [
    "pakory + 12"
   ]
  },
  {
   "cell_type": "code",
   "execution_count": 48,
   "metadata": {},
   "outputs": [
    {
     "name": "stdout",
     "output_type": "stream",
     "text": [
      "465\n"
     ]
    }
   ],
   "source": [
    "print(pakory)"
   ]
  },
  {
   "cell_type": "code",
   "execution_count": 54,
   "metadata": {},
   "outputs": [
    {
     "name": "stdout",
     "output_type": "stream",
     "text": [
      "You the Fool\n",
      "45\n"
     ]
    }
   ],
   "source": [
    "x = 45\n",
    "\n",
    "\n",
    "def although():\n",
    "    print(\"Qayoom has gone to dpt and he will make girlfriends as mush as he can\")\n",
    "    print(\"He thinks that he can do that just because of the ratio\")\n",
    "    \n",
    "    \n",
    "print(\"You the Fool\")\n",
    "x + 23\n",
    "print(x)"
   ]
  },
  {
   "cell_type": "code",
   "execution_count": 55,
   "metadata": {},
   "outputs": [
    {
     "name": "stdout",
     "output_type": "stream",
     "text": [
      "You the Fool\n",
      "45\n",
      "Qayoom has gone to dpt and he will make girlfriends as mush as he can\n",
      "He thinks that he can do that just because of the ratio\n"
     ]
    }
   ],
   "source": [
    "print(\"You the Fool\")\n",
    "x + 23\n",
    "print(x)\n",
    "although()"
   ]
  },
  {
   "cell_type": "code",
   "execution_count": 84,
   "metadata": {},
   "outputs": [],
   "source": [
    "def create_pass(lang):\n",
    "    if lang == 'eng':\n",
    "        print(\"English\")\n",
    "    elif lang == 'Arb':\n",
    "        print(\"Arabic\")\n",
    "    elif lang == 'Jp':\n",
    "        print(\"Japanese\")\n",
    "    elif lang == 'ch':\n",
    "        print(\"Chinese\")\n",
    "    else:\n",
    "        print(\"local\")"
   ]
  },
  {
   "cell_type": "code",
   "execution_count": 85,
   "metadata": {},
   "outputs": [
    {
     "name": "stdout",
     "output_type": "stream",
     "text": [
      "Japanese\n"
     ]
    }
   ],
   "source": [
    "create_pass('Jp')"
   ]
  },
  {
   "cell_type": "code",
   "execution_count": 86,
   "metadata": {},
   "outputs": [
    {
     "name": "stdout",
     "output_type": "stream",
     "text": [
      "English\n"
     ]
    }
   ],
   "source": [
    "create_pass('eng')"
   ]
  },
  {
   "cell_type": "code",
   "execution_count": 87,
   "metadata": {},
   "outputs": [
    {
     "name": "stdout",
     "output_type": "stream",
     "text": [
      "Chinese\n"
     ]
    }
   ],
   "source": [
    "create_pass('ch')"
   ]
  },
  {
   "cell_type": "code",
   "execution_count": 88,
   "metadata": {},
   "outputs": [
    {
     "ename": "SyntaxError",
     "evalue": "invalid syntax (<ipython-input-88-d5faa1288d0f>, line 2)",
     "output_type": "error",
     "traceback": [
      "\u001b[1;36m  File \u001b[1;32m\"<ipython-input-88-d5faa1288d0f>\"\u001b[1;36m, line \u001b[1;32m2\u001b[0m\n\u001b[1;33m    return = \"Hello\"\u001b[0m\n\u001b[1;37m           ^\u001b[0m\n\u001b[1;31mSyntaxError\u001b[0m\u001b[1;31m:\u001b[0m invalid syntax\n"
     ]
    }
   ],
   "source": [
    "def greet():\n",
    "    return = \"Hello\"\n",
    "\n",
    "print(\"Ali\", greet())\n",
    "print(\"Haniya\", greet())"
   ]
  },
  {
   "cell_type": "code",
   "execution_count": 89,
   "metadata": {},
   "outputs": [
    {
     "ename": "SyntaxError",
     "evalue": "invalid syntax (<ipython-input-89-451a6556ff2c>, line 3)",
     "output_type": "error",
     "traceback": [
      "\u001b[1;36m  File \u001b[1;32m\"<ipython-input-89-451a6556ff2c>\"\u001b[1;36m, line \u001b[1;32m3\u001b[0m\n\u001b[1;33m    return = \"Holla\"\u001b[0m\n\u001b[1;37m           ^\u001b[0m\n\u001b[1;31mSyntaxError\u001b[0m\u001b[1;31m:\u001b[0m invalid syntax\n"
     ]
    }
   ],
   "source": [
    "def greet(lang):\n",
    "    if lang == 'eng':\n",
    "        return = \"Holla\"\n",
    "    elif lang == 'pk':\n",
    "        return = \"Phakka\"\n",
    "    elif lang == 'sh':\n",
    "        return = \"Sushii\"\n",
    "    else:\n",
    "        return = \"Mungo\""
   ]
  },
  {
   "cell_type": "code",
   "execution_count": 1,
   "metadata": {},
   "outputs": [
    {
     "ename": "IndentationError",
     "evalue": "expected an indented block (<ipython-input-1-a48cbf2ecf4e>, line 2)",
     "output_type": "error",
     "traceback": [
      "\u001b[1;36m  File \u001b[1;32m\"<ipython-input-1-a48cbf2ecf4e>\"\u001b[1;36m, line \u001b[1;32m2\u001b[0m\n\u001b[1;33m    hrs = input(\"Enter Hours: \")\u001b[0m\n\u001b[1;37m      ^\u001b[0m\n\u001b[1;31mIndentationError\u001b[0m\u001b[1;31m:\u001b[0m expected an indented block\n"
     ]
    }
   ],
   "source": [
    "def computepay(h,r):\n",
    "hrs = input(\"Enter Hours: \")\n",
    "rate = input(\"Enter Rate: \")\n",
    "\n",
    "h = float(hrs)\n",
    "r = float(rate)\n",
    "\n",
    "pay = (h * r)\n",
    "\n",
    "if h <= 40:\n",
    "return(pay)\n",
    "\n",
    "else:\n",
    "ovrhrs = (h - 40)\n",
    "regular = (r * 40)\n",
    "\n",
    "others = ovrhrs * (r * 1.5)\n",
    "ovrpay = (regular + others)\n",
    "\n",
    "return(ovrpay)\n",
    "print(computepay(45,10.50))"
   ]
  },
  {
   "cell_type": "code",
   "execution_count": 5,
   "metadata": {},
   "outputs": [
    {
     "ename": "SyntaxError",
     "evalue": "Missing parentheses in call to 'print'. Did you mean print(\"Please enter a number as input\")? (<ipython-input-5-bc704fd5216c>, line 7)",
     "output_type": "error",
     "traceback": [
      "\u001b[1;36m  File \u001b[1;32m\"<ipython-input-5-bc704fd5216c>\"\u001b[1;36m, line \u001b[1;32m7\u001b[0m\n\u001b[1;33m    print \"Please enter a number as input\"\u001b[0m\n\u001b[1;37m                                         ^\u001b[0m\n\u001b[1;31mSyntaxError\u001b[0m\u001b[1;31m:\u001b[0m Missing parentheses in call to 'print'. Did you mean print(\"Please enter a number as input\")?\n"
     ]
    }
   ],
   "source": [
    "try:\n",
    "    inp = raw_input(\"Please enter hours: \")\n",
    "    hours=float(inp)\n",
    "    inp = raw_input(\"Please enter rate: \")\n",
    "    rate= float(inp)\n",
    "except:\n",
    "    print \"Please enter a number as input\"\n",
    "    quit()\n",
    "\n",
    "def computepay(h,r):\n",
    "    if (h>40) : \n",
    "        pay = (40*r)+(h-40)*1.5*r\n",
    "    else :\n",
    "        pay = (h*r)     \n",
    "    return pay\n",
    "\n",
    "print computepay(hours,rate)"
   ]
  },
  {
   "cell_type": "code",
   "execution_count": 9,
   "metadata": {},
   "outputs": [
    {
     "ename": "IndentationError",
     "evalue": "expected an indented block (<ipython-input-9-d9b5a5b15cc4>, line 7)",
     "output_type": "error",
     "traceback": [
      "\u001b[1;36m  File \u001b[1;32m\"<ipython-input-9-d9b5a5b15cc4>\"\u001b[1;36m, line \u001b[1;32m7\u001b[0m\n\u001b[1;33m    if (h < 40):\u001b[0m\n\u001b[1;37m     ^\u001b[0m\n\u001b[1;31mIndentationError\u001b[0m\u001b[1;31m:\u001b[0m expected an indented block\n"
     ]
    }
   ],
   "source": [
    "hrs = input(\"Enter Hours:\")\n",
    "h = float(hrs)\n",
    "rate = input(\"Enter Rate:\")\n",
    "r = float(rate)\n",
    "pay = (h * r)\n",
    "def computepay(h,r):\n",
    "if (h < 40):\n",
    "return(pay)\n",
    "else :\n",
    "ovrhrs = (h-40)\n",
    "regular = (r*40)\n",
    "othrs = ovrhrs * (r *1.5)\n",
    "ovrpay = (regular + othrs)\n",
    "return(ovrpay)\n",
    "print(computepay(45,10.5))"
   ]
  },
  {
   "cell_type": "code",
   "execution_count": 11,
   "metadata": {},
   "outputs": [
    {
     "ename": "IndentationError",
     "evalue": "expected an indented block (<ipython-input-11-50cd8878c953>, line 2)",
     "output_type": "error",
     "traceback": [
      "\u001b[1;36m  File \u001b[1;32m\"<ipython-input-11-50cd8878c953>\"\u001b[1;36m, line \u001b[1;32m2\u001b[0m\n\u001b[1;33m    if(hrs > 40):\u001b[0m\n\u001b[1;37m     ^\u001b[0m\n\u001b[1;31mIndentationError\u001b[0m\u001b[1;31m:\u001b[0m expected an indented block\n"
     ]
    }
   ],
   "source": [
    "def computepay():\n",
    "if(hrs > 40):\n",
    "p=(40rate)+(hrs-40)1.5rate\n",
    "return p\n",
    "else:\n",
    "p=ratehrs\n",
    "return p\n",
    "\n",
    "hrs = float(input(\"Enter Hours:\"))\n",
    "rate=float(input(\"Enter rate:\"))\n",
    "p = computepay()\n",
    "print(p)"
   ]
  },
  {
   "cell_type": "code",
   "execution_count": 12,
   "metadata": {},
   "outputs": [
    {
     "ename": "IndentationError",
     "evalue": "expected an indented block (<ipython-input-12-769184ba0266>, line 2)",
     "output_type": "error",
     "traceback": [
      "\u001b[1;36m  File \u001b[1;32m\"<ipython-input-12-769184ba0266>\"\u001b[1;36m, line \u001b[1;32m2\u001b[0m\n\u001b[1;33m    if(hrs>40):\u001b[0m\n\u001b[1;37m     ^\u001b[0m\n\u001b[1;31mIndentationError\u001b[0m\u001b[1;31m:\u001b[0m expected an indented block\n"
     ]
    }
   ],
   "source": [
    "  def computepay():\n",
    "if(hrs>40):\n",
    "p=(40_rate)+(hrs-40)_1.5_rate return p else: p=rate_hrs\n",
    "return p\n",
    "\n",
    "hrs = float(input(\"Enter Hours:\"))\n",
    "rate=float(input(\"Enter rate:\"))\n",
    "p = computepay()\n",
    "print(p)"
   ]
  },
  {
   "cell_type": "code",
   "execution_count": 16,
   "metadata": {},
   "outputs": [
    {
     "ename": "IndentationError",
     "evalue": "expected an indented block (<ipython-input-16-74cb9ec3da59>, line 2)",
     "output_type": "error",
     "traceback": [
      "\u001b[1;36m  File \u001b[1;32m\"<ipython-input-16-74cb9ec3da59>\"\u001b[1;36m, line \u001b[1;32m2\u001b[0m\n\u001b[1;33m    if h == 40:\u001b[0m\n\u001b[1;37m     ^\u001b[0m\n\u001b[1;31mIndentationError\u001b[0m\u001b[1;31m:\u001b[0m expected an indented block\n"
     ]
    }
   ],
   "source": [
    "def computepay(h,r):\n",
    "if h40:\n",
    "Pay = h * r\n",
    "else:\n",
    "Pay=40 r+(h-40)1.5 r\n",
    "return Pay\n",
    "\n",
    "hrs = input('Enter Hours:')\n",
    "h=float(hrs)\n",
    "rate = input('Enter Rate:')\n",
    "r=float(rate)\n",
    "\n",
    "pay=computepay(h,r)\n",
    "print(pay)"
   ]
  },
  {
   "cell_type": "code",
   "execution_count": 18,
   "metadata": {},
   "outputs": [
    {
     "ename": "IndentationError",
     "evalue": "expected an indented block (<ipython-input-18-0a76f52d1b42>, line 2)",
     "output_type": "error",
     "traceback": [
      "\u001b[1;36m  File \u001b[1;32m\"<ipython-input-18-0a76f52d1b42>\"\u001b[1;36m, line \u001b[1;32m2\u001b[0m\n\u001b[1;33m    if hours > 40.0:\u001b[0m\n\u001b[1;37m     ^\u001b[0m\n\u001b[1;31mIndentationError\u001b[0m\u001b[1;31m:\u001b[0m expected an indented block\n"
     ]
    }
   ],
   "source": [
    "def computepay(hours,rate):\n",
    "if hours > 40.0:\n",
    "pay = rate * 40.0\n",
    "pay = pay + (1.5rate(hours-40))\n",
    "else:\n",
    "pay = rate*hours\n",
    "return pay\n",
    "hours = float(raw_input(\"Enter worked hours: \"))\n",
    "rate = float(raw_input(\"Enter Pay rate per hour: \"))\n",
    "print (computepay(hours,rate))"
   ]
  },
  {
   "cell_type": "code",
   "execution_count": 2,
   "metadata": {},
   "outputs": [
    {
     "data": {
      "text/plain": [
       "[('d', 1), ('c', 2), ('b', 3), ('a', 4)]"
      ]
     },
     "execution_count": 2,
     "metadata": {},
     "output_type": "execute_result"
    }
   ],
   "source": [
    "xs = {'a': 4, 'b': 3, 'c': 2, 'd': 1}\n",
    "\n",
    "sorted(xs.items(), key=lambda x: x[1])\n",
    "[('d', 1), ('c', 2), ('b', 3), ('a', 4)]\n",
    "\n",
    "import operator\n",
    "sorted(xs.items(), key=operator.itemgetter(1))\n",
    "[('d', 1), ('c', 2), ('b', 3), ('a', 4)]"
   ]
  },
  {
   "cell_type": "code",
   "execution_count": 11,
   "metadata": {},
   "outputs": [
    {
     "name": "stdout",
     "output_type": "stream",
     "text": [
      "Enter Hours: 45\n",
      "Enter Rate: 10.50\n",
      "pay: <function computepay at 0x0000001A98FADF28>\n"
     ]
    }
   ],
   "source": [
    "sh = input(\"Enter Hours: \")\n",
    "sr = input(\"Enter Rate: \")\n",
    "\n",
    "try:\n",
    "    \n",
    "    fh = float(sh)\n",
    "    fr = float(sr)\n",
    "    \n",
    "except:\n",
    "    \n",
    "    print(\"Error, please enter the numeric input\")\n",
    "    quit()\n",
    "    \n",
    "#print(fh, fr)\n",
    "def computepay():    \n",
    "#if fh > 40:\n",
    "        reg = fh * fr\n",
    "        opt = (fh - 40.0) * (fr * 0.5)\n",
    "        \n",
    "        computepay = reg + opt\n",
    "        \n",
    "#else:\n",
    "        \n",
    "        computepay = fr * fh\n",
    "        \n",
    "print(\"pay:\",computepay)"
   ]
  },
  {
   "cell_type": "code",
   "execution_count": 15,
   "metadata": {},
   "outputs": [
    {
     "ename": "IndentationError",
     "evalue": "expected an indented block (<ipython-input-15-93cadfe5a63a>, line 6)",
     "output_type": "error",
     "traceback": [
      "\u001b[1;36m  File \u001b[1;32m\"<ipython-input-15-93cadfe5a63a>\"\u001b[1;36m, line \u001b[1;32m6\u001b[0m\n\u001b[1;33m    else:\u001b[0m\n\u001b[1;37m       ^\u001b[0m\n\u001b[1;31mIndentationError\u001b[0m\u001b[1;31m:\u001b[0m expected an indented block\n"
     ]
    }
   ],
   "source": [
    "def computepay(h,r):\n",
    "    Pay = h * r\n",
    "    pay = (fh - 40.0) * (fr * 0.5)\n",
    "if h<=40:\n",
    "#Pay= h * r\n",
    "else:\n",
    "#Pay=40r+(h-40)1.5r\n",
    "#pay = (fh - 40.0) * (fr * 0.5)\n",
    "return = Pay\n",
    "\n",
    "hrs = input('Enter Hours:')\n",
    "h=float(hrs)\n",
    "rate = input('Enter Rate:')\n",
    "r=float(rate)\n",
    "\n",
    "pay=computepay(h,r)\n",
    "print(pay)    "
   ]
  },
  {
   "cell_type": "code",
   "execution_count": 16,
   "metadata": {},
   "outputs": [
    {
     "ename": "IndentationError",
     "evalue": "expected an indented block (<ipython-input-16-a3fb607ddbc9>, line 2)",
     "output_type": "error",
     "traceback": [
      "\u001b[1;36m  File \u001b[1;32m\"<ipython-input-16-a3fb607ddbc9>\"\u001b[1;36m, line \u001b[1;32m2\u001b[0m\n\u001b[1;33m    if hours>40.0:\u001b[0m\n\u001b[1;37m     ^\u001b[0m\n\u001b[1;31mIndentationError\u001b[0m\u001b[1;31m:\u001b[0m expected an indented block\n"
     ]
    }
   ],
   "source": [
    "def computepay(hours,rate):\n",
    "if hours>40.0:\n",
    "p = rate * 40.0\n",
    "p = p+(1.5rate(hours-40))\n",
    "else:\n",
    "p = rate*hours\n",
    "return p\n",
    "hours = float(raw_input(\"Enter worked hours: \"))\n",
    "rate = float(raw_input(\"Enter Pay rate per hour: \"))\n",
    "print (computepay(hours,rate))"
   ]
  },
  {
   "cell_type": "code",
   "execution_count": 17,
   "metadata": {},
   "outputs": [
    {
     "ename": "IndentationError",
     "evalue": "expected an indented block (<ipython-input-17-e5b8260c9775>, line 2)",
     "output_type": "error",
     "traceback": [
      "\u001b[1;36m  File \u001b[1;32m\"<ipython-input-17-e5b8260c9775>\"\u001b[1;36m, line \u001b[1;32m2\u001b[0m\n\u001b[1;33m    if h > 40:\u001b[0m\n\u001b[1;37m     ^\u001b[0m\n\u001b[1;31mIndentationError\u001b[0m\u001b[1;31m:\u001b[0m expected an indented block\n"
     ]
    }
   ],
   "source": [
    "def computepay(h,r):\n",
    "if h > 40:\n",
    "p = 1.5 * r * (h - 40) + (40 *r)\n",
    "else:\n",
    "p = h * r\n",
    "return p\n",
    "\n",
    "hrs = input(\"Enter Hours:\")\n",
    "hr = float(hrs)\n",
    "rphrs = input(\"Enter rate per hour:\")\n",
    "rphr = float(rphrs)\n",
    "\n",
    "p = computepay(hr,rphr)\n",
    "print(p)"
   ]
  },
  {
   "cell_type": "code",
   "execution_count": 18,
   "metadata": {},
   "outputs": [
    {
     "ename": "IndentationError",
     "evalue": "expected an indented block (<ipython-input-18-c3de49b75967>, line 2)",
     "output_type": "error",
     "traceback": [
      "\u001b[1;36m  File \u001b[1;32m\"<ipython-input-18-c3de49b75967>\"\u001b[1;36m, line \u001b[1;32m2\u001b[0m\n\u001b[1;33m    if h >=40:\u001b[0m\n\u001b[1;37m     ^\u001b[0m\n\u001b[1;31mIndentationError\u001b[0m\u001b[1;31m:\u001b[0m expected an indented block\n"
     ]
    }
   ],
   "source": [
    "def computepay():\n",
    "if h >=40:\n",
    "pay = (40r)+ ((h-40)(r1.5))\n",
    "else:\n",
    "pay= rh\n",
    "return pay\n",
    "\n",
    "hrs = input(\"Enter Hours:\")\n",
    "try:\n",
    "h=float (hrs)\n",
    "except:\n",
    "print (\"put a number please\")\n",
    "quit()\n",
    "rate = input (\"Enter Rate\")\n",
    "try:\n",
    "r= float(rate)\n",
    "except:\n",
    "print (\"put a number please\")\n",
    "quit()\n",
    "\n",
    "print(computepay())"
   ]
  },
  {
   "cell_type": "code",
   "execution_count": 19,
   "metadata": {},
   "outputs": [
    {
     "ename": "IndentationError",
     "evalue": "expected an indented block (<ipython-input-19-debe022f29ed>, line 2)",
     "output_type": "error",
     "traceback": [
      "\u001b[1;36m  File \u001b[1;32m\"<ipython-input-19-debe022f29ed>\"\u001b[1;36m, line \u001b[1;32m2\u001b[0m\n\u001b[1;33m    if hrs > 40:\u001b[0m\n\u001b[1;37m     ^\u001b[0m\n\u001b[1;31mIndentationError\u001b[0m\u001b[1;31m:\u001b[0m expected an indented block\n"
     ]
    }
   ],
   "source": [
    "def computepay(hrs,rate):\n",
    "if hrs > 40:\n",
    "over_time = (hrs - 40) * (rate * 1.5)\n",
    "pay= (40 * rate) + over_time\n",
    "elif hrs <= 40:\n",
    "pay = hrs * rate\n",
    "return pay\n",
    "\n",
    "hour = input(\"Enter Hours:\")\n",
    "hrs = float(hour)\n",
    "ratePerhour = input(\"Enter Rate Per Hour:\")\n",
    "rate = float(ratePerhour)\n",
    "p=computepay(hrs,rate)\n",
    "print(p)"
   ]
  },
  {
   "cell_type": "code",
   "execution_count": 20,
   "metadata": {},
   "outputs": [
    {
     "ename": "IndentationError",
     "evalue": "expected an indented block (<ipython-input-20-69f464d268e1>, line 2)",
     "output_type": "error",
     "traceback": [
      "\u001b[1;36m  File \u001b[1;32m\"<ipython-input-20-69f464d268e1>\"\u001b[1;36m, line \u001b[1;32m2\u001b[0m\n\u001b[1;33m    fhrs=float(hrs)\u001b[0m\n\u001b[1;37m       ^\u001b[0m\n\u001b[1;31mIndentationError\u001b[0m\u001b[1;31m:\u001b[0m expected an indented block\n"
     ]
    }
   ],
   "source": [
    "def computepay(hrs,rate):\n",
    "fhrs=float(hrs)\n",
    "frate=float(rate)\n",
    "if fhrs > 40:\n",
    "over_time = (fhrs - 40) * (frate * 1.5)\n",
    "pay= (40 * frate) + over_time\n",
    "elif fhrs <= 40:\n",
    "pay = fhrs * frate\n",
    "return pay\n",
    "\n",
    "p=computepay(input(\"Enter Hours:\"),input(\"Enter Rate/Hour:\"))\n",
    "print(p)"
   ]
  },
  {
   "cell_type": "code",
   "execution_count": 1,
   "metadata": {},
   "outputs": [
    {
     "name": "stdout",
     "output_type": "stream",
     "text": [
      "Johi\n",
      "Sehwan\n",
      "Moro\n",
      "Sita\n",
      "Piyaro\n",
      "Kakar\n"
     ]
    }
   ],
   "source": [
    "Dadu = {'Johi': 1, 'Sehwan': 2, 'Moro': 3, 'Sita': 4, 'Piyaro': 5, 'Kakar': 6}\n",
    "\n",
    "for k in Dadu:\n",
    "    print(k)"
   ]
  },
  {
   "cell_type": "code",
   "execution_count": 2,
   "metadata": {},
   "outputs": [
    {
     "name": "stdout",
     "output_type": "stream",
     "text": [
      "Johi\n",
      "Sehwan\n",
      "Moro\n",
      "Sita\n",
      "Piyaro\n",
      "Kakar\n"
     ]
    }
   ],
   "source": [
    "for Tehsils in Dadu:\n",
    "    print(Tehsils)"
   ]
  },
  {
   "cell_type": "code",
   "execution_count": 5,
   "metadata": {},
   "outputs": [
    {
     "name": "stdout",
     "output_type": "stream",
     "text": [
      "Karachi\n",
      "Hyderabad\n",
      "Sukkur\n",
      "Nawabshah\n",
      "Thata\n"
     ]
    }
   ],
   "source": [
    "Sindh = {'Karachi': 1, 'Hyderabad': 2, 'Sukkur': 3, 'Nawabshah': 4, 'Thata': 5}\n",
    "\n",
    "for cities in Sindh:\n",
    "    print(cities)"
   ]
  },
  {
   "cell_type": "code",
   "execution_count": 7,
   "metadata": {},
   "outputs": [
    {
     "name": "stdout",
     "output_type": "stream",
     "text": [
      "1\n",
      "2\n",
      "3\n",
      "4\n",
      "5\n"
     ]
    }
   ],
   "source": [
    "for cities in Sindh:\n",
    "    print(Sindh[cities])"
   ]
  },
  {
   "cell_type": "code",
   "execution_count": 9,
   "metadata": {},
   "outputs": [
    {
     "ename": "TypeError",
     "evalue": "'builtin_function_or_method' object is not iterable",
     "output_type": "error",
     "traceback": [
      "\u001b[1;31m---------------------------------------------------------------------------\u001b[0m",
      "\u001b[1;31mTypeError\u001b[0m                                 Traceback (most recent call last)",
      "\u001b[1;32m<ipython-input-9-71a012841b40>\u001b[0m in \u001b[0;36m<module>\u001b[1;34m\u001b[0m\n\u001b[1;32m----> 1\u001b[1;33m \u001b[1;32mfor\u001b[0m \u001b[0mcities\u001b[0m \u001b[1;32min\u001b[0m \u001b[0mSindh\u001b[0m\u001b[1;33m.\u001b[0m\u001b[0mvalues\u001b[0m\u001b[1;33m:\u001b[0m\u001b[1;33m\u001b[0m\u001b[1;33m\u001b[0m\u001b[0m\n\u001b[0m\u001b[0;32m      2\u001b[0m     \u001b[0mprint\u001b[0m\u001b[1;33m(\u001b[0m\u001b[0mcities\u001b[0m\u001b[1;33m)\u001b[0m\u001b[1;33m\u001b[0m\u001b[1;33m\u001b[0m\u001b[0m\n",
      "\u001b[1;31mTypeError\u001b[0m: 'builtin_function_or_method' object is not iterable"
     ]
    }
   ],
   "source": [
    "for cities in Sindh.values:\n",
    "    print(cities)"
   ]
  },
  {
   "cell_type": "code",
   "execution_count": 1,
   "metadata": {},
   "outputs": [
    {
     "name": "stdout",
     "output_type": "stream",
     "text": [
      "1 2\n"
     ]
    }
   ],
   "source": [
    "i, j = (1, 2)\n",
    "print(i, j)"
   ]
  },
  {
   "cell_type": "code",
   "execution_count": 2,
   "metadata": {},
   "outputs": [
    {
     "name": "stdout",
     "output_type": "stream",
     "text": [
      "1 2\n",
      "3 4\n",
      "5 6\n"
     ]
    }
   ],
   "source": [
    "for i, j in [(1, 2), (3, 4), (5, 6)]:\n",
    "    print(i, j)"
   ]
  },
  {
   "cell_type": "code",
   "execution_count": 6,
   "metadata": {},
   "outputs": [
    {
     "name": "stdout",
     "output_type": "stream",
     "text": [
      "doo\n",
      "bar\n",
      "baz\n",
      "qux\n",
      "Done \n"
     ]
    }
   ],
   "source": [
    "for i in ['doo', 'bar', 'baz', 'qux']:\n",
    "    print(i)\n",
    "else:\n",
    "    print('Done ')"
   ]
  },
  {
   "cell_type": "code",
   "execution_count": 8,
   "metadata": {},
   "outputs": [
    {
     "name": "stdout",
     "output_type": "stream",
     "text": [
      "Done \n",
      "Done \n",
      "Done \n"
     ]
    }
   ],
   "source": [
    "for Dadu in ['Johi', 'Sehwan', 'Moro', 'Kakar']:\n",
    "    if Dadu == 'Kakar':\n",
    "        break\n",
    "        print(Dadu)\n",
    "    else:\n",
    "        print('Done ')"
   ]
  },
  {
   "cell_type": "code",
   "execution_count": null,
   "metadata": {},
   "outputs": [],
   "source": [
    "nums = [1, 2, 3, 4, 5, 6]\n",
    "\n",
    "for nums in nums:\n",
    "    for letters in 'abc':\n",
    "        print('nums', letters)"
   ]
  },
  {
   "cell_type": "code",
   "execution_count": null,
   "metadata": {},
   "outputs": [],
   "source": [
    "n = 34\n",
    "while n <= 34:\n",
    "    print(n)\n",
    "    n = n -1\n",
    "print(\"The End!\")\n",
    "print(n)"
   ]
  },
  {
   "cell_type": "code",
   "execution_count": null,
   "metadata": {},
   "outputs": [],
   "source": [
    "n = 34\n",
    "while n <= 34:\n",
    "    print(n)\n",
    "    n = n -1\n",
    "print(\"The End!\")\n",
    "print(n)"
   ]
  },
  {
   "cell_type": "code",
   "execution_count": null,
   "metadata": {},
   "outputs": [],
   "source": [
    "print(n)"
   ]
  },
  {
   "cell_type": "code",
   "execution_count": null,
   "metadata": {},
   "outputs": [],
   "source": [
    "n = 5\n",
    "while n > 0:\n",
    "    print(n)\n",
    "    n = n + 1\n",
    "print('Blastoff!')\n",
    "print(n)"
   ]
  },
  {
   "cell_type": "code",
   "execution_count": 2,
   "metadata": {},
   "outputs": [
    {
     "name": "stdout",
     "output_type": "stream",
     "text": [
      "Happy New Year Ghaffar\n",
      "Happy New Year Qayoom\n",
      "Happy New Year Khalid\n",
      "Happy New Year Noman\n",
      "Happy New Year Maddan\n",
      "Done!\n"
     ]
    }
   ],
   "source": [
    "friends = ['Ghaffar', 'Qayoom', 'Khalid', 'Noman', 'Maddan']\n",
    "for friend in friends:\n",
    "    print(\"Happy New Year\", friend)\n",
    "print(\"Done!\")"
   ]
  },
  {
   "cell_type": "code",
   "execution_count": 5,
   "metadata": {},
   "outputs": [
    {
     "name": "stdout",
     "output_type": "stream",
     "text": [
      "2\n",
      "3\n",
      "4\n",
      "5\n",
      "6\n",
      "7\n",
      "Blastoff!\n"
     ]
    }
   ],
   "source": [
    "counts = [1, 2, 3, 4, 5, 6]\n",
    "for i in counts:\n",
    "    i = i + 1\n",
    "    print(i)\n",
    "print(\"Blastoff!\")"
   ]
  },
  {
   "cell_type": "code",
   "execution_count": 6,
   "metadata": {},
   "outputs": [
    {
     "name": "stdout",
     "output_type": "stream",
     "text": [
      "Before\n",
      "34\n",
      "45\n",
      "56\n",
      "345\n",
      "234\n",
      "5456\n",
      "After\n"
     ]
    }
   ],
   "source": [
    "print(\"Before\")\n",
    "for thing in [34, 45, 56, 345, 234, 5456]:\n",
    "    print(thing)\n",
    "print(\"After\")"
   ]
  },
  {
   "cell_type": "code",
   "execution_count": 8,
   "metadata": {},
   "outputs": [
    {
     "name": "stdout",
     "output_type": "stream",
     "text": [
      "Before -1\n",
      "9 9\n",
      "41 41\n",
      "41 12\n",
      "41 3\n",
      "74 74\n",
      "74 15\n",
      "After 74\n"
     ]
    }
   ],
   "source": [
    "largest_so_far = -1\n",
    "print('Before', largest_so_far)\n",
    "for the_num in [9, 41, 12, 3, 74, 15]:\n",
    "    if the_num > largest_so_far :\n",
    "        largest_so_far = the_num\n",
    "    print(largest_so_far, the_num)\n",
    "    \n",
    "print('After', largest_so_far)"
   ]
  },
  {
   "cell_type": "code",
   "execution_count": 9,
   "metadata": {},
   "outputs": [
    {
     "name": "stdout",
     "output_type": "stream",
     "text": [
      "Before 0\n",
      "1 9\n",
      "2 41\n",
      "3 12\n",
      "4 3\n",
      "5 74\n",
      "6 15\n",
      "After 6\n"
     ]
    }
   ],
   "source": [
    "zork = 0\n",
    "print('Before', zork)\n",
    "for thing in [9, 41, 12, 3, 74, 15]:\n",
    "    zork = zork + 1\n",
    "    print(zork, thing)\n",
    "print('After', zork)"
   ]
  },
  {
   "cell_type": "code",
   "execution_count": 10,
   "metadata": {},
   "outputs": [
    {
     "name": "stdout",
     "output_type": "stream",
     "text": [
      "Before -1\n",
      "-2 12\n",
      "-3 34\n",
      "-4 45\n",
      "-5 56\n",
      "-6 67\n",
      "-7 78\n",
      "-8 2\n",
      "-9 34\n",
      "After -9\n"
     ]
    }
   ],
   "source": [
    "mingle = -1\n",
    "print(\"Before\", mingle)\n",
    "for thing in [12, 34, 45, 56, 67, 78, 2, 34]:\n",
    "    mingle = mingle - 1\n",
    "    print(mingle, thing)\n",
    "print('After', mingle)"
   ]
  },
  {
   "cell_type": "code",
   "execution_count": 11,
   "metadata": {},
   "outputs": [
    {
     "name": "stdout",
     "output_type": "stream",
     "text": [
      "Before 0\n",
      "12 12\n",
      "46 34\n",
      "91 45\n",
      "147 56\n",
      "214 67\n",
      "259 45\n",
      "264 5\n",
      "270 6\n",
      "277 7\n",
      "285 8\n",
      "294 9\n",
      "After 294\n"
     ]
    }
   ],
   "source": [
    "count = 0\n",
    "print(\"Before\", count)\n",
    "for thing in [12, 34, 45, 56, 67, 45, 5, 6, 7, 8, 9]:\n",
    "    count = count + thing\n",
    "    print(count, thing)\n",
    "print('After', count)"
   ]
  },
  {
   "cell_type": "code",
   "execution_count": 1,
   "metadata": {},
   "outputs": [
    {
     "name": "stdout",
     "output_type": "stream",
     "text": [
      "Before 0 0\n",
      "1 9 9\n",
      "2 50 41\n",
      "3 62 12\n",
      "4 65 3\n",
      "5 139 74\n",
      "6 154 15\n",
      "After 6 154 25.666666666666668\n"
     ]
    }
   ],
   "source": [
    "count = 0\n",
    "sum = 0\n",
    "print(\"Before\", count, sum)\n",
    "for value in [9, 41, 12, 3, 74, 15]:\n",
    "    count = count + 1\n",
    "    sum = sum + value\n",
    "    print(count, sum, value)\n",
    "print(\"After\", count, sum, sum / count)"
   ]
  },
  {
   "cell_type": "code",
   "execution_count": 4,
   "metadata": {},
   "outputs": [
    {
     "name": "stdout",
     "output_type": "stream",
     "text": [
      "Before\n",
      "After\n",
      "After\n",
      "After\n",
      "The Large, value\n",
      "After\n",
      "After\n",
      "After\n",
      "After\n",
      "The Large, value\n",
      "After\n"
     ]
    }
   ],
   "source": [
    "print(\"Before\")\n",
    "for value in [12, 3, 45, 56, 3, 4, 5, 67]:\n",
    "    if value > 50:\n",
    "        print ('The Large, value')\n",
    "    print(\"After\")"
   ]
  },
  {
   "cell_type": "code",
   "execution_count": 7,
   "metadata": {},
   "outputs": [
    {
     "ename": "NameError",
     "evalue": "name 'false' is not defined",
     "output_type": "error",
     "traceback": [
      "\u001b[1;31m---------------------------------------------------------------------------\u001b[0m",
      "\u001b[1;31mNameError\u001b[0m                                 Traceback (most recent call last)",
      "\u001b[1;32m<ipython-input-7-31b0f23011c4>\u001b[0m in \u001b[0;36m<module>\u001b[1;34m\u001b[0m\n\u001b[1;32m----> 1\u001b[1;33m \u001b[0mfound\u001b[0m \u001b[1;33m=\u001b[0m \u001b[0mfalse\u001b[0m\u001b[1;33m\u001b[0m\u001b[1;33m\u001b[0m\u001b[0m\n\u001b[0m\u001b[0;32m      2\u001b[0m \u001b[0mprint\u001b[0m\u001b[1;33m(\u001b[0m\u001b[1;34m\"Before\"\u001b[0m\u001b[1;33m,\u001b[0m \u001b[0mfound\u001b[0m\u001b[1;33m)\u001b[0m\u001b[1;33m\u001b[0m\u001b[1;33m\u001b[0m\u001b[0m\n\u001b[0;32m      3\u001b[0m \u001b[1;32mfor\u001b[0m \u001b[0mvalue\u001b[0m \u001b[1;32min\u001b[0m \u001b[1;33m[\u001b[0m\u001b[1;36m19\u001b[0m\u001b[1;33m,\u001b[0m \u001b[1;36m41\u001b[0m\u001b[1;33m,\u001b[0m \u001b[1;36m12\u001b[0m\u001b[1;33m,\u001b[0m \u001b[1;36m3\u001b[0m\u001b[1;33m,\u001b[0m \u001b[1;36m74\u001b[0m\u001b[1;33m,\u001b[0m \u001b[1;36m15\u001b[0m\u001b[1;33m]\u001b[0m\u001b[1;33m:\u001b[0m\u001b[1;33m\u001b[0m\u001b[1;33m\u001b[0m\u001b[0m\n\u001b[0;32m      4\u001b[0m     \u001b[1;32mif\u001b[0m \u001b[0mvalue\u001b[0m \u001b[1;33m==\u001b[0m \u001b[1;36m3\u001b[0m\u001b[1;33m:\u001b[0m\u001b[1;33m\u001b[0m\u001b[1;33m\u001b[0m\u001b[0m\n\u001b[0;32m      5\u001b[0m         \u001b[0mprint\u001b[0m\u001b[1;33m(\u001b[0m\u001b[1;34m\"True\"\u001b[0m\u001b[1;33m)\u001b[0m\u001b[1;33m\u001b[0m\u001b[1;33m\u001b[0m\u001b[0m\n",
      "\u001b[1;31mNameError\u001b[0m: name 'false' is not defined"
     ]
    }
   ],
   "source": [
    "found = false\n",
    "print(\"Before\", found)\n",
    "for value in [19, 41, 12, 3, 74, 15]:\n",
    "    if value == 3:\n",
    "        print(\"True\")\n",
    "        print('found, value')\n",
    "    print('After', found)"
   ]
  },
  {
   "cell_type": "code",
   "execution_count": 10,
   "metadata": {},
   "outputs": [
    {
     "name": "stdout",
     "output_type": "stream",
     "text": [
      "Before -1\n",
      "After -1\n",
      "After -1\n",
      "After -1\n",
      "After -1\n",
      "After -1\n",
      "After -1\n"
     ]
    }
   ],
   "source": [
    "smallest_so_far = -1\n",
    "print(\"Before\", smallest_so_far)\n",
    "for the_num in [9, 41, 12, 3, 74, 15]:\n",
    "    if the_num < smallest_so_far:\n",
    "        smallest_so_far = the_num\n",
    "        print(smallest_so_far, the_num)\n",
    "        \n",
    "    print(\"After\", smallest_so_far)"
   ]
  },
  {
   "cell_type": "code",
   "execution_count": 11,
   "metadata": {},
   "outputs": [
    {
     "name": "stdout",
     "output_type": "stream",
     "text": [
      "Before\n",
      "9 9\n",
      "9 41\n",
      "9 12\n",
      "3 3\n",
      "3 74\n",
      "3 15\n",
      "After 3\n"
     ]
    }
   ],
   "source": [
    "smallest = None\n",
    "print(\"Before\")\n",
    "for value in [9, 41, 12, 3, 74, 15]:\n",
    "    if smallest is None:\n",
    "        smallest = value\n",
    "    elif value < smallest:\n",
    "        smallest = value\n",
    "    print(smallest, value)\n",
    "print(\"After\", smallest)"
   ]
  },
  {
   "cell_type": "code",
   "execution_count": 12,
   "metadata": {},
   "outputs": [
    {
     "name": "stdout",
     "output_type": "stream",
     "text": [
      "Dary off!\n"
     ]
    }
   ],
   "source": [
    "n = 0\n",
    "while n > 0:\n",
    "    print(\"Lather\")\n",
    "    print(\"Rinse\")\n",
    "print(\"Dary off!\")"
   ]
  },
  {
   "cell_type": "code",
   "execution_count": 15,
   "metadata": {},
   "outputs": [
    {
     "name": "stdout",
     "output_type": "stream",
     "text": [
      "Enter a number: 34\n",
      "34.0\n",
      "Enter a number: 3\n",
      "3.0\n",
      "Enter a number: 4\n",
      "4.0\n",
      "Enter a number: 5\n",
      "5.0\n",
      "Enter a number: 5\n",
      "5.0\n",
      "Enter a number: 656\n",
      "656.0\n",
      "Enter a number: 675\n",
      "675.0\n",
      "Enter a number: 34\n",
      "34.0\n",
      "Enter a number: done\n",
      "All Done\n",
      "1416.0 8 177.0\n"
     ]
    }
   ],
   "source": [
    "num = 0\n",
    "tot = 0.0\n",
    "while True:\n",
    "    sval = input(\"Enter a number: \")\n",
    "    if sval == 'done' :\n",
    "        break\n",
    "    fval = float(sval)\n",
    "    print(fval)\n",
    "    num = num + 1\n",
    "    tot = tot + fval\n",
    "print('All Done')\n",
    "print(tot,num,tot/num)"
   ]
  },
  {
   "cell_type": "markdown",
   "metadata": {},
   "source": []
  },
  {
   "cell_type": "code",
   "execution_count": null,
   "metadata": {},
   "outputs": [
    {
     "name": "stdout",
     "output_type": "stream",
     "text": [
      "Enter a number: 34\n",
      "Enter a number: 344\n",
      "Enter a number: dkfj\n",
      "Invalid input\n",
      "Enter a number: sfs\n",
      "Invalid input\n",
      "Enter a number: ert\n",
      "Invalid input\n",
      "Enter a number: g\n"
     ]
    }
   ],
   "source": [
    "num = 0\n",
    "tot = 0.0\n",
    "while True:\n",
    "    sval = input(\"Enter a number: \")\n",
    "    if sval == 'done':\n",
    "        break\n",
    "    try:\n",
    "        fval = float(sval)\n",
    "    except:\n",
    "        print('Invalid input')\n",
    "        continue\n",
    "    num = num + 1\n",
    "    tot = tot + fval\n",
    "    \n",
    "print(tot,num,tot/num)"
   ]
  },
  {
   "cell_type": "code",
   "execution_count": null,
   "metadata": {},
   "outputs": [],
   "source": []
  }
 ],
 "metadata": {
  "kernelspec": {
   "display_name": "Python 3",
   "language": "python",
   "name": "python3"
  },
  "language_info": {
   "codemirror_mode": {
    "name": "ipython",
    "version": 3
   },
   "file_extension": ".py",
   "mimetype": "text/x-python",
   "name": "python",
   "nbconvert_exporter": "python",
   "pygments_lexer": "ipython3",
   "version": "3.7.3"
  }
 },
 "nbformat": 4,
 "nbformat_minor": 2
}
